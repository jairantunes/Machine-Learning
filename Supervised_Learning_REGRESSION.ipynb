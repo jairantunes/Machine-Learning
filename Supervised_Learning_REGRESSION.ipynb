{
  "nbformat": 4,
  "nbformat_minor": 0,
  "metadata": {
    "colab": {
      "name": "Supervised-Learning - REGRESSION.ipynb",
      "version": "0.3.2",
      "provenance": [],
      "collapsed_sections": [],
      "include_colab_link": true
    },
    "kernelspec": {
      "name": "python3",
      "display_name": "Python 3"
    }
  },
  "cells": [
    {
      "cell_type": "markdown",
      "metadata": {
        "id": "view-in-github",
        "colab_type": "text"
      },
      "source": [
        "<a href=\"https://colab.research.google.com/github/jairantunes/Machine-Learning/blob/master/Supervised_Learning_REGRESSION.ipynb\" target=\"_parent\"><img src=\"https://colab.research.google.com/assets/colab-badge.svg\" alt=\"Open In Colab\"/></a>"
      ]
    },
    {
      "cell_type": "markdown",
      "metadata": {
        "id": "L8YqZEzw0m2A",
        "colab_type": "text"
      },
      "source": [
        "# Welcome to Machine Learning - https://bit.ly/2JVEj2W\n",
        "\n",
        "We will be doing a simple exercise using a well known data collection - Boston area home prices. The problem is to predict home prices based on this data using REGRESSION. \n",
        "\n",
        "\n",
        "*Disclaimer: this data is old so some of the information will not properly predict current trends! So current, reliable and relevant data is needed for good ML modeling!\n",
        "\n",
        "### We will be using these packages to help us\n",
        "- numpy: Used for NumPy is the fundamental package for scientific computing with Python.\n",
        "\n",
        "- pandas: pandas is used for data analysis tools for the Python programming\n",
        "\n",
        "- scipy: SciPy (pronounced “Sigh Pie”) is a Python-based ecosystem of open-source software for mathematics, science, and engineering\n",
        "\n",
        "- matplotlib: Matplotlib is a plotting library for the Python programming language\n",
        "\n",
        "- sklearn: Scikit-learn (formerly scikits.learn) is a free software machine learning library for the Python programming language\n",
        "\n",
        "- statsmodels: statsmodels is a Python module that provides classes and functions for the estimation of many different statistical models\n",
        "\n",
        "- seaborn: Seaborn is a Python visualization library based on matplotlib. It provides a high-level interface for drawing attractive statistical graphics."
      ]
    },
    {
      "cell_type": "markdown",
      "metadata": {
        "id": "LIONUJ1QfmGr",
        "colab_type": "text"
      },
      "source": [
        "## Loading Packages\n",
        "Please execute the next cell to load our required packages - note how package names are refernced in short form by the use of _\"as\"_"
      ]
    },
    {
      "cell_type": "code",
      "metadata": {
        "id": "_mcHU4Mq0iL2",
        "colab_type": "code",
        "colab": {}
      },
      "source": [
        "get_ipython().run_line_magic('matplotlib', 'inline')\n",
        "\n",
        "import numpy as np\n",
        "import pandas as pd\n",
        "import scipy.stats as stats\n",
        "import matplotlib.pyplot as plt\n",
        "import sklearn\n",
        "import statsmodels.api as sm\n",
        "\n",
        "import seaborn as sns\n",
        "sns.set_style(\"whitegrid\")\n",
        "sns.set_context(\"poster\")\n",
        "\n",
        "# special matplotlib argument for improved plots\n",
        "from matplotlib import rcParams"
      ],
      "execution_count": 0,
      "outputs": []
    },
    {
      "cell_type": "markdown",
      "metadata": {
        "id": "FpVdtU132PDs",
        "colab_type": "text"
      },
      "source": [
        "### Load Boston dataset"
      ]
    },
    {
      "cell_type": "code",
      "metadata": {
        "id": "Pe_n4hUC0nmT",
        "colab_type": "code",
        "colab": {}
      },
      "source": [
        "# sklearn provides datasets as part of the package! You don't have to download datasets from other websites. \n",
        "from sklearn.datasets import load_boston\n",
        "boston = load_boston() # load_boston in sklearn already has information about the housing data! "
      ],
      "execution_count": 0,
      "outputs": []
    },
    {
      "cell_type": "code",
      "metadata": {
        "id": "aVcZ_wpl2SqU",
        "colab_type": "code",
        "outputId": "996da12a-7b24-4a04-c3ce-a7eab607ca3a",
        "colab": {
          "base_uri": "https://localhost:8080/",
          "height": 904
        }
      },
      "source": [
        "print(boston.DESCR) # describe the dataset"
      ],
      "execution_count": 0,
      "outputs": [
        {
          "output_type": "stream",
          "text": [
            ".. _boston_dataset:\n",
            "\n",
            "Boston house prices dataset\n",
            "---------------------------\n",
            "\n",
            "**Data Set Characteristics:**  \n",
            "\n",
            "    :Number of Instances: 506 \n",
            "\n",
            "    :Number of Attributes: 13 numeric/categorical predictive. Median Value (attribute 14) is usually the target.\n",
            "\n",
            "    :Attribute Information (in order):\n",
            "        - CRIM     per capita crime rate by town\n",
            "        - ZN       proportion of residential land zoned for lots over 25,000 sq.ft.\n",
            "        - INDUS    proportion of non-retail business acres per town\n",
            "        - CHAS     Charles River dummy variable (= 1 if tract bounds river; 0 otherwise)\n",
            "        - NOX      nitric oxides concentration (parts per 10 million)\n",
            "        - RM       average number of rooms per dwelling\n",
            "        - AGE      proportion of owner-occupied units built prior to 1940\n",
            "        - DIS      weighted distances to five Boston employment centres\n",
            "        - RAD      index of accessibility to radial highways\n",
            "        - TAX      full-value property-tax rate per $10,000\n",
            "        - PTRATIO  pupil-teacher ratio by town\n",
            "        - B        1000(Bk - 0.63)^2 where Bk is the proportion of blacks by town\n",
            "        - LSTAT    % lower status of the population\n",
            "        - MEDV     Median value of owner-occupied homes in $1000's\n",
            "\n",
            "    :Missing Attribute Values: None\n",
            "\n",
            "    :Creator: Harrison, D. and Rubinfeld, D.L.\n",
            "\n",
            "This is a copy of UCI ML housing dataset.\n",
            "https://archive.ics.uci.edu/ml/machine-learning-databases/housing/\n",
            "\n",
            "\n",
            "This dataset was taken from the StatLib library which is maintained at Carnegie Mellon University.\n",
            "\n",
            "The Boston house-price data of Harrison, D. and Rubinfeld, D.L. 'Hedonic\n",
            "prices and the demand for clean air', J. Environ. Economics & Management,\n",
            "vol.5, 81-102, 1978.   Used in Belsley, Kuh & Welsch, 'Regression diagnostics\n",
            "...', Wiley, 1980.   N.B. Various transformations are used in the table on\n",
            "pages 244-261 of the latter.\n",
            "\n",
            "The Boston house-price data has been used in many machine learning papers that address regression\n",
            "problems.   \n",
            "     \n",
            ".. topic:: References\n",
            "\n",
            "   - Belsley, Kuh & Welsch, 'Regression diagnostics: Identifying Influential Data and Sources of Collinearity', Wiley, 1980. 244-261.\n",
            "   - Quinlan,R. (1993). Combining Instance-Based and Model-Based Learning. In Proceedings on the Tenth International Conference of Machine Learning, 236-243, University of Massachusetts, Amherst. Morgan Kaufmann.\n",
            "\n"
          ],
          "name": "stdout"
        }
      ]
    },
    {
      "cell_type": "code",
      "metadata": {
        "id": "fAxhRsMA2VGN",
        "colab_type": "code",
        "outputId": "b83fdcdf-085c-4fa4-97f3-ac68d9fbaa22",
        "colab": {
          "base_uri": "https://localhost:8080/",
          "height": 68
        }
      },
      "source": [
        "# Let's get some more information about our dataset\n",
        "print(boston.keys())\n",
        "print(type(boston.data))\n",
        "print(boston.data.shape)"
      ],
      "execution_count": 0,
      "outputs": [
        {
          "output_type": "stream",
          "text": [
            "dict_keys(['data', 'target', 'feature_names', 'DESCR', 'filename'])\n",
            "<class 'numpy.ndarray'>\n",
            "(506, 13)\n"
          ],
          "name": "stdout"
        }
      ]
    },
    {
      "cell_type": "code",
      "metadata": {
        "id": "3N0RSS3d2Zia",
        "colab_type": "code",
        "outputId": "7d728e11-c304-4437-db45-0253c7a72af5",
        "colab": {
          "base_uri": "https://localhost:8080/",
          "height": 51
        }
      },
      "source": [
        "print(boston.feature_names)"
      ],
      "execution_count": 0,
      "outputs": [
        {
          "output_type": "stream",
          "text": [
            "['CRIM' 'ZN' 'INDUS' 'CHAS' 'NOX' 'RM' 'AGE' 'DIS' 'RAD' 'TAX' 'PTRATIO'\n",
            " 'B' 'LSTAT']\n"
          ],
          "name": "stdout"
        }
      ]
    },
    {
      "cell_type": "code",
      "metadata": {
        "id": "F1pRpwHHOh5M",
        "colab_type": "code",
        "outputId": "7d6b55e1-2b9e-4748-8816-168ba48a59b6",
        "colab": {
          "base_uri": "https://localhost:8080/",
          "height": 153
        }
      },
      "source": [
        "bos = pd.DataFrame(boston.data) # pandas is used here to format the data into a DataFrame called \"bos\"- rows and columns \n",
        "print(bos.head()) # top 5 rows of dataset bos"
      ],
      "execution_count": 0,
      "outputs": [
        {
          "output_type": "stream",
          "text": [
            "        0     1     2    3      4   ...   8      9     10      11    12\n",
            "0  0.00632  18.0  2.31  0.0  0.538  ...  1.0  296.0  15.3  396.90  4.98\n",
            "1  0.02731   0.0  7.07  0.0  0.469  ...  2.0  242.0  17.8  396.90  9.14\n",
            "2  0.02729   0.0  7.07  0.0  0.469  ...  2.0  242.0  17.8  392.83  4.03\n",
            "3  0.03237   0.0  2.18  0.0  0.458  ...  3.0  222.0  18.7  394.63  2.94\n",
            "4  0.06905   0.0  2.18  0.0  0.458  ...  3.0  222.0  18.7  396.90  5.33\n",
            "\n",
            "[5 rows x 13 columns]\n"
          ],
          "name": "stdout"
        }
      ]
    },
    {
      "cell_type": "code",
      "metadata": {
        "id": "kLF08p1MOkQU",
        "colab_type": "code",
        "outputId": "6ab9c0bd-9c08-4015-919e-1857f670ae34",
        "colab": {
          "base_uri": "https://localhost:8080/",
          "height": 153
        }
      },
      "source": [
        "bos.columns = boston.feature_names # we are adding the feature names to the columns\n",
        "print(bos.head())"
      ],
      "execution_count": 0,
      "outputs": [
        {
          "output_type": "stream",
          "text": [
            "      CRIM    ZN  INDUS  CHAS    NOX  ...  RAD    TAX  PTRATIO       B  LSTAT\n",
            "0  0.00632  18.0   2.31   0.0  0.538  ...  1.0  296.0     15.3  396.90   4.98\n",
            "1  0.02731   0.0   7.07   0.0  0.469  ...  2.0  242.0     17.8  396.90   9.14\n",
            "2  0.02729   0.0   7.07   0.0  0.469  ...  2.0  242.0     17.8  392.83   4.03\n",
            "3  0.03237   0.0   2.18   0.0  0.458  ...  3.0  222.0     18.7  394.63   2.94\n",
            "4  0.06905   0.0   2.18   0.0  0.458  ...  3.0  222.0     18.7  396.90   5.33\n",
            "\n",
            "[5 rows x 13 columns]\n"
          ],
          "name": "stdout"
        }
      ]
    },
    {
      "cell_type": "code",
      "metadata": {
        "id": "-4H30EyWOmbH",
        "colab_type": "code",
        "outputId": "39c4afb4-dcd3-49a9-c638-3a35b2d0b820",
        "colab": {
          "base_uri": "https://localhost:8080/",
          "height": 34
        }
      },
      "source": [
        "print(boston.target.shape) # target is where we will place the price - it is a single column vector"
      ],
      "execution_count": 0,
      "outputs": [
        {
          "output_type": "stream",
          "text": [
            "(506,)\n"
          ],
          "name": "stdout"
        }
      ]
    },
    {
      "cell_type": "code",
      "metadata": {
        "id": "hNHae3FnOo4e",
        "colab_type": "code",
        "outputId": "39301f0f-a577-48a6-cd4b-f32eb4e0bb24",
        "colab": {
          "base_uri": "https://localhost:8080/",
          "height": 153
        }
      },
      "source": [
        "bos['PRICE'] = boston.target # the dependant variable > Price is dependent on the features. \n",
        "print(bos.head())"
      ],
      "execution_count": 0,
      "outputs": [
        {
          "output_type": "stream",
          "text": [
            "      CRIM    ZN  INDUS  CHAS    NOX  ...    TAX  PTRATIO       B  LSTAT  PRICE\n",
            "0  0.00632  18.0   2.31   0.0  0.538  ...  296.0     15.3  396.90   4.98   24.0\n",
            "1  0.02731   0.0   7.07   0.0  0.469  ...  242.0     17.8  396.90   9.14   21.6\n",
            "2  0.02729   0.0   7.07   0.0  0.469  ...  242.0     17.8  392.83   4.03   34.7\n",
            "3  0.03237   0.0   2.18   0.0  0.458  ...  222.0     18.7  394.63   2.94   33.4\n",
            "4  0.06905   0.0   2.18   0.0  0.458  ...  222.0     18.7  396.90   5.33   36.2\n",
            "\n",
            "[5 rows x 14 columns]\n"
          ],
          "name": "stdout"
        }
      ]
    },
    {
      "cell_type": "code",
      "metadata": {
        "id": "-g56Q7jsOsif",
        "colab_type": "code",
        "outputId": "41044ab1-9b74-491b-9ed1-d5ff4aee679c",
        "colab": {
          "base_uri": "https://localhost:8080/",
          "height": 317
        }
      },
      "source": [
        "bos.describe() # get all stats for each column of data quickly !\n",
        "\n",
        "# this is useful to understand various statistical measures about our data - please review the output below!\n"
      ],
      "execution_count": 0,
      "outputs": [
        {
          "output_type": "execute_result",
          "data": {
            "text/html": [
              "<div>\n",
              "<style scoped>\n",
              "    .dataframe tbody tr th:only-of-type {\n",
              "        vertical-align: middle;\n",
              "    }\n",
              "\n",
              "    .dataframe tbody tr th {\n",
              "        vertical-align: top;\n",
              "    }\n",
              "\n",
              "    .dataframe thead th {\n",
              "        text-align: right;\n",
              "    }\n",
              "</style>\n",
              "<table border=\"1\" class=\"dataframe\">\n",
              "  <thead>\n",
              "    <tr style=\"text-align: right;\">\n",
              "      <th></th>\n",
              "      <th>CRIM</th>\n",
              "      <th>ZN</th>\n",
              "      <th>INDUS</th>\n",
              "      <th>CHAS</th>\n",
              "      <th>NOX</th>\n",
              "      <th>RM</th>\n",
              "      <th>AGE</th>\n",
              "      <th>DIS</th>\n",
              "      <th>RAD</th>\n",
              "      <th>TAX</th>\n",
              "      <th>PTRATIO</th>\n",
              "      <th>B</th>\n",
              "      <th>LSTAT</th>\n",
              "      <th>PRICE</th>\n",
              "    </tr>\n",
              "  </thead>\n",
              "  <tbody>\n",
              "    <tr>\n",
              "      <th>count</th>\n",
              "      <td>506.000000</td>\n",
              "      <td>506.000000</td>\n",
              "      <td>506.000000</td>\n",
              "      <td>506.000000</td>\n",
              "      <td>506.000000</td>\n",
              "      <td>506.000000</td>\n",
              "      <td>506.000000</td>\n",
              "      <td>506.000000</td>\n",
              "      <td>506.000000</td>\n",
              "      <td>506.000000</td>\n",
              "      <td>506.000000</td>\n",
              "      <td>506.000000</td>\n",
              "      <td>506.000000</td>\n",
              "      <td>506.000000</td>\n",
              "    </tr>\n",
              "    <tr>\n",
              "      <th>mean</th>\n",
              "      <td>3.613524</td>\n",
              "      <td>11.363636</td>\n",
              "      <td>11.136779</td>\n",
              "      <td>0.069170</td>\n",
              "      <td>0.554695</td>\n",
              "      <td>6.284634</td>\n",
              "      <td>68.574901</td>\n",
              "      <td>3.795043</td>\n",
              "      <td>9.549407</td>\n",
              "      <td>408.237154</td>\n",
              "      <td>18.455534</td>\n",
              "      <td>356.674032</td>\n",
              "      <td>12.653063</td>\n",
              "      <td>22.532806</td>\n",
              "    </tr>\n",
              "    <tr>\n",
              "      <th>std</th>\n",
              "      <td>8.601545</td>\n",
              "      <td>23.322453</td>\n",
              "      <td>6.860353</td>\n",
              "      <td>0.253994</td>\n",
              "      <td>0.115878</td>\n",
              "      <td>0.702617</td>\n",
              "      <td>28.148861</td>\n",
              "      <td>2.105710</td>\n",
              "      <td>8.707259</td>\n",
              "      <td>168.537116</td>\n",
              "      <td>2.164946</td>\n",
              "      <td>91.294864</td>\n",
              "      <td>7.141062</td>\n",
              "      <td>9.197104</td>\n",
              "    </tr>\n",
              "    <tr>\n",
              "      <th>min</th>\n",
              "      <td>0.006320</td>\n",
              "      <td>0.000000</td>\n",
              "      <td>0.460000</td>\n",
              "      <td>0.000000</td>\n",
              "      <td>0.385000</td>\n",
              "      <td>3.561000</td>\n",
              "      <td>2.900000</td>\n",
              "      <td>1.129600</td>\n",
              "      <td>1.000000</td>\n",
              "      <td>187.000000</td>\n",
              "      <td>12.600000</td>\n",
              "      <td>0.320000</td>\n",
              "      <td>1.730000</td>\n",
              "      <td>5.000000</td>\n",
              "    </tr>\n",
              "    <tr>\n",
              "      <th>25%</th>\n",
              "      <td>0.082045</td>\n",
              "      <td>0.000000</td>\n",
              "      <td>5.190000</td>\n",
              "      <td>0.000000</td>\n",
              "      <td>0.449000</td>\n",
              "      <td>5.885500</td>\n",
              "      <td>45.025000</td>\n",
              "      <td>2.100175</td>\n",
              "      <td>4.000000</td>\n",
              "      <td>279.000000</td>\n",
              "      <td>17.400000</td>\n",
              "      <td>375.377500</td>\n",
              "      <td>6.950000</td>\n",
              "      <td>17.025000</td>\n",
              "    </tr>\n",
              "    <tr>\n",
              "      <th>50%</th>\n",
              "      <td>0.256510</td>\n",
              "      <td>0.000000</td>\n",
              "      <td>9.690000</td>\n",
              "      <td>0.000000</td>\n",
              "      <td>0.538000</td>\n",
              "      <td>6.208500</td>\n",
              "      <td>77.500000</td>\n",
              "      <td>3.207450</td>\n",
              "      <td>5.000000</td>\n",
              "      <td>330.000000</td>\n",
              "      <td>19.050000</td>\n",
              "      <td>391.440000</td>\n",
              "      <td>11.360000</td>\n",
              "      <td>21.200000</td>\n",
              "    </tr>\n",
              "    <tr>\n",
              "      <th>75%</th>\n",
              "      <td>3.677083</td>\n",
              "      <td>12.500000</td>\n",
              "      <td>18.100000</td>\n",
              "      <td>0.000000</td>\n",
              "      <td>0.624000</td>\n",
              "      <td>6.623500</td>\n",
              "      <td>94.075000</td>\n",
              "      <td>5.188425</td>\n",
              "      <td>24.000000</td>\n",
              "      <td>666.000000</td>\n",
              "      <td>20.200000</td>\n",
              "      <td>396.225000</td>\n",
              "      <td>16.955000</td>\n",
              "      <td>25.000000</td>\n",
              "    </tr>\n",
              "    <tr>\n",
              "      <th>max</th>\n",
              "      <td>88.976200</td>\n",
              "      <td>100.000000</td>\n",
              "      <td>27.740000</td>\n",
              "      <td>1.000000</td>\n",
              "      <td>0.871000</td>\n",
              "      <td>8.780000</td>\n",
              "      <td>100.000000</td>\n",
              "      <td>12.126500</td>\n",
              "      <td>24.000000</td>\n",
              "      <td>711.000000</td>\n",
              "      <td>22.000000</td>\n",
              "      <td>396.900000</td>\n",
              "      <td>37.970000</td>\n",
              "      <td>50.000000</td>\n",
              "    </tr>\n",
              "  </tbody>\n",
              "</table>\n",
              "</div>"
            ],
            "text/plain": [
              "             CRIM          ZN       INDUS  ...           B       LSTAT       PRICE\n",
              "count  506.000000  506.000000  506.000000  ...  506.000000  506.000000  506.000000\n",
              "mean     3.613524   11.363636   11.136779  ...  356.674032   12.653063   22.532806\n",
              "std      8.601545   23.322453    6.860353  ...   91.294864    7.141062    9.197104\n",
              "min      0.006320    0.000000    0.460000  ...    0.320000    1.730000    5.000000\n",
              "25%      0.082045    0.000000    5.190000  ...  375.377500    6.950000   17.025000\n",
              "50%      0.256510    0.000000    9.690000  ...  391.440000   11.360000   21.200000\n",
              "75%      3.677083   12.500000   18.100000  ...  396.225000   16.955000   25.000000\n",
              "max     88.976200  100.000000   27.740000  ...  396.900000   37.970000   50.000000\n",
              "\n",
              "[8 rows x 14 columns]"
            ]
          },
          "metadata": {
            "tags": []
          },
          "execution_count": 12
        }
      ]
    },
    {
      "cell_type": "code",
      "metadata": {
        "id": "C8Ijcph5Ou-A",
        "colab_type": "code",
        "colab": {}
      },
      "source": [
        "X = bos.drop('PRICE', axis = 1) # these are our variables\n",
        "Y = bos['PRICE'] # this is the result"
      ],
      "execution_count": 0,
      "outputs": []
    },
    {
      "cell_type": "code",
      "metadata": {
        "id": "gCsld1bOOyMQ",
        "colab_type": "code",
        "colab": {}
      },
      "source": [
        "import sklearn.model_selection\n",
        "\n",
        "\n"
      ],
      "execution_count": 0,
      "outputs": []
    },
    {
      "cell_type": "markdown",
      "metadata": {
        "id": "yL9_t77uO9Bu",
        "colab_type": "text"
      },
      "source": [
        "### Split the data into training and test set using the train_test_split function\n",
        "\n",
        "Why do we split the data ? \n",
        "\n",
        "The data is split into training (this has the known output based on the data)  and test datasets. As this i duperised learning the \"training data\" helps the model learn. To validate this learning we use the \"test data\" which also was part of the original\n",
        "data so it has the output - making it possible for us to verify the model! \n",
        "\n",
        "The command in the cell below uses a sklearn function \"train_test_split\" using the input data (X,Y) and creates a 2/3 (training) - 1/3 (test)  split of data using the test_size parameter (=0.33). \n",
        "\n",
        "Please note there are several ways to split data and that depends on the particular problem to be solved.\n"
      ]
    },
    {
      "cell_type": "code",
      "metadata": {
        "id": "0370Gx3rO1wV",
        "colab_type": "code",
        "outputId": "f63f692d-663c-47fe-b903-0067c39193e8",
        "colab": {
          "base_uri": "https://localhost:8080/",
          "height": 85
        }
      },
      "source": [
        "X_train, X_test, Y_train, Y_test = sklearn.model_selection.train_test_split(X, Y, test_size = 0.33, random_state = 5)\n",
        "print(X_train.shape)\n",
        "print(X_test.shape)\n",
        "print(Y_train.shape)\n",
        "print(Y_test.shape)\n",
        "\n"
      ],
      "execution_count": 0,
      "outputs": [
        {
          "output_type": "stream",
          "text": [
            "(339, 13)\n",
            "(167, 13)\n",
            "(339,)\n",
            "(167,)\n"
          ],
          "name": "stdout"
        }
      ]
    },
    {
      "cell_type": "markdown",
      "metadata": {
        "id": "R2QEGKnzPB4L",
        "colab_type": "text"
      },
      "source": [
        "### Linear Regression\n",
        "Build the model and predict the target value using the Linear Regression model\n",
        "\n",
        "Linear Regression is a supervised machine learning algorithm where the predicted output is continuous and has a constant slope. It’s used to predict values within a continuous range, (e.g. sales, price) rather than trying to classify them into categories (e.g. cat, dog)."
      ]
    },
    {
      "cell_type": "code",
      "metadata": {
        "id": "2WcvA9qHO3_9",
        "colab_type": "code",
        "colab": {}
      },
      "source": [
        "from sklearn.linear_model import LinearRegression\n",
        "\n",
        "lm = LinearRegression()\n",
        "lm.fit(X_train, Y_train)\n",
        "\n",
        "Y_pred = lm.predict(X_test)"
      ],
      "execution_count": 0,
      "outputs": []
    },
    {
      "cell_type": "markdown",
      "metadata": {
        "id": "qrNWZV4gPoOp",
        "colab_type": "text"
      },
      "source": [
        "Let's plot the predicted prices vs actual prices along with the ideal prediction"
      ]
    },
    {
      "cell_type": "code",
      "metadata": {
        "id": "9KcAUG_OPH1s",
        "colab_type": "code",
        "outputId": "b0facdda-92b1-4e6c-e711-4d22c28d6260",
        "colab": {
          "base_uri": "https://localhost:8080/",
          "height": 367
        }
      },
      "source": [
        "plt.scatter(Y_test, Y_pred)\n",
        "plt.xlabel(\"Prices: $Y_i$\")\n",
        "plt.ylabel(\"Predicted prices: $\\hat{Y}_i$\")\n",
        "plt.title(\"Prices vs Predicted prices: $Y_i$ vs $\\hat{Y}_i$\")\n",
        "plt.plot([Y_test.min(), Y_test.max()], [Y_test.min(), Y_test.max()], 'k--', lw=1)"
      ],
      "execution_count": 0,
      "outputs": [
        {
          "output_type": "execute_result",
          "data": {
            "text/plain": [
              "[<matplotlib.lines.Line2D at 0x7feab2c1db70>]"
            ]
          },
          "metadata": {
            "tags": []
          },
          "execution_count": 17
        },
        {
          "output_type": "display_data",
          "data": {
            "image/png": "[encoded data removed]",
            "text/plain": [
              "<Figure size 432x288 with 1 Axes>"
            ]
          },
          "metadata": {
            "tags": []
          }
        }
      ]
    },
    {
      "cell_type": "markdown",
      "metadata": {
        "id": "mMC-zKKvPtnm",
        "colab_type": "text"
      },
      "source": [
        "### Mean Squared Error - from the linear regression model\n",
        "\n",
        "We use loss functions to improve our model. This implies that our effort is minimize the \"loss\" or \"error\" between predicted and actual results. \n",
        "\n",
        "Mean Squared Error (MSE) is the most common regression loss function. MSE is the sum of squared distances between the target variable and predicted values.\n"
      ]
    },
    {
      "cell_type": "code",
      "metadata": {
        "id": "W__pWBJ1Pnf9",
        "colab_type": "code",
        "outputId": "78229f28-0341-4c02-b18e-a0a9055dabda",
        "colab": {
          "base_uri": "https://localhost:8080/",
          "height": 34
        }
      },
      "source": [
        "# calculate the MSE between the target values\n",
        "mse = sklearn.metrics.mean_squared_error(Y_test, Y_pred)\n",
        "print(mse)"
      ],
      "execution_count": 0,
      "outputs": [
        {
          "output_type": "stream",
          "text": [
            "28.530458765974597\n"
          ],
          "name": "stdout"
        }
      ]
    },
    {
      "cell_type": "markdown",
      "metadata": {
        "id": "q6ZqGj_UPzz7",
        "colab_type": "text"
      },
      "source": [
        "### Let's see how another model performs - this is the RandomForestRegressor model \n",
        "\n",
        "This model uses decision trees in a regressor model.\n",
        "\n",
        "Article https://www.analyticsvidhya.com/blog/2016/04/complete-tutorial-tree-based-modeling-scratch-in-python/"
      ]
    },
    {
      "cell_type": "code",
      "metadata": {
        "id": "RSjyQ6qEPxc2",
        "colab_type": "code",
        "outputId": "f24b0b03-6711-433d-e134-a505feca0903",
        "colab": {
          "base_uri": "https://localhost:8080/",
          "height": 421
        }
      },
      "source": [
        "from sklearn.ensemble import RandomForestRegressor\n",
        "regr = RandomForestRegressor(max_depth=2, random_state=0)\n",
        "regr.fit(X_train, Y_train)\n",
        "\n",
        "Y_pred = regr.predict(X_test)\n",
        "\n",
        "plt.scatter(Y_test, Y_pred)\n",
        "plt.xlabel(\"Prices: $Y_i$\")\n",
        "plt.ylabel(\"Predicted prices: $\\hat{Y}_i$\")\n",
        "plt.title(\"Prices vs Predicted prices: $Y_i$ vs $\\hat{Y}_i$\")\n",
        "plt.plot([Y_test.min(), Y_test.max()], [Y_test.min(), Y_test.max()], 'k--', lw=1)"
      ],
      "execution_count": 0,
      "outputs": [
        {
          "output_type": "stream",
          "text": [
            "/usr/local/lib/python3.6/dist-packages/sklearn/ensemble/forest.py:246: FutureWarning: The default value of n_estimators will change from 10 in version 0.20 to 100 in 0.22.\n",
            "  \"10 in version 0.20 to 100 in 0.22.\", FutureWarning)\n"
          ],
          "name": "stderr"
        },
        {
          "output_type": "execute_result",
          "data": {
            "text/plain": [
              "[<matplotlib.lines.Line2D at 0x7feaaf819f60>]"
            ]
          },
          "metadata": {
            "tags": []
          },
          "execution_count": 19
        },
        {
          "output_type": "display_data",
          "data": {
            "image/png": "[encoded data removed]",
            "text/plain": [
              "<Figure size 432x288 with 1 Axes>"
            ]
          },
          "metadata": {
            "tags": []
          }
        }
      ]
    },
    {
      "cell_type": "markdown",
      "metadata": {
        "id": "v8LqR8YBP5ko",
        "colab_type": "text"
      },
      "source": [
        "### Mean Squared Error - from the Random Forest regression model"
      ]
    },
    {
      "cell_type": "code",
      "metadata": {
        "id": "RzIAf0S1P5Fo",
        "colab_type": "code",
        "outputId": "bc46f33f-1c19-437f-c92b-8bec102f0913",
        "colab": {
          "base_uri": "https://localhost:8080/",
          "height": 34
        }
      },
      "source": [
        "mse = sklearn.metrics.mean_squared_error(Y_test, Y_pred)\n",
        "print(mse)"
      ],
      "execution_count": 0,
      "outputs": [
        {
          "output_type": "stream",
          "text": [
            "23.449404297745122\n"
          ],
          "name": "stdout"
        }
      ]
    },
    {
      "cell_type": "code",
      "metadata": {
        "id": "bogJVNIzP4Kq",
        "colab_type": "code",
        "colab": {}
      },
      "source": [
        "prices=boston.target"
      ],
      "execution_count": 0,
      "outputs": []
    },
    {
      "cell_type": "code",
      "metadata": {
        "id": "e52ST0xqP_Ed",
        "colab_type": "code",
        "outputId": "9cd3144f-50e0-4a2c-d868-d7cc53f57049",
        "colab": {
          "base_uri": "https://localhost:8080/",
          "height": 51
        }
      },
      "source": [
        "print(boston.feature_names)"
      ],
      "execution_count": 0,
      "outputs": [
        {
          "output_type": "stream",
          "text": [
            "['CRIM' 'ZN' 'INDUS' 'CHAS' 'NOX' 'RM' 'AGE' 'DIS' 'RAD' 'TAX' 'PTRATIO'\n",
            " 'B' 'LSTAT']\n"
          ],
          "name": "stdout"
        }
      ]
    },
    {
      "cell_type": "markdown",
      "metadata": {
        "id": "p5gzUk5RQEoS",
        "colab_type": "text"
      },
      "source": [
        "## Predicting \n",
        "\n",
        "### Did you compare the MSEs between the 2 models ? One using liner regression and the other using random forest ??\n",
        "\n",
        "\n",
        "Now that we have a model **regr** let's see how it does on predictions...\n",
        "\n",
        "Everything being the same - how do you think the price will be affected by\n",
        "        * the number of rooms (RM)\n",
        "        * the Pupil Teacher Ration (PTRATIO) and\n",
        "        * the level of poverty of people in the neighborhood (LSTAT) ?\n",
        "       \n"
      ]
    },
    {
      "cell_type": "markdown",
      "metadata": {
        "id": "zWZcZ8w5iB5v",
        "colab_type": "text"
      },
      "source": [
        "Here we have 3 homes with these characteristics :\n",
        "\n",
        "    \n",
        "| Client | Rooms (RM) | PTRATIO | LSTAT \n",
        "| ------|-----|---------|----------\n",
        "|   1   |    5       |   15    |   20 \n",
        "|   2   |      4      |   30    |   10  |\n",
        " |   3   |    8       |   12    |   3   |\n",
        "   \n",
        "   \n",
        "   -----------------------------------------\n",
        "  \n",
        "  \n",
        "   Let's see how our model predicts prices for these homes. You may want to guess if the prices would be higher/lower than the median values..     \n",
        "   "
      ]
    },
    {
      "cell_type": "code",
      "metadata": {
        "id": "alJnqr7SQA5L",
        "colab_type": "code",
        "colab": {}
      },
      "source": [
        "# This is a simple test dataset that is in the same format as our original dataset\n",
        "\n",
        "clients = [[0.06905, 0.00, 2.18, 0, 0.469, 5.0,61.1,4.0900, 1.0, 296.0, 15.00, 332.09, 20],\n",
        "               [0.06905, 0.00, 2.18, 0, 0.469, 4.0,61.1,4.0900, 1.0, 296.0, 30.00, 332.09, 10],\n",
        "               [0.06905, 0.00, 2.18, 0, 0.469, 8.0,61.1,4.0900, 1.0, 296.0, 12.00, 332.09, 3]]\n"
      ],
      "execution_count": 0,
      "outputs": []
    },
    {
      "cell_type": "code",
      "metadata": {
        "id": "CA4qRpu6Qhch",
        "colab_type": "code",
        "outputId": "4326c064-216a-415a-9ffe-90f67abc1219",
        "colab": {
          "base_uri": "https://localhost:8080/",
          "height": 68
        }
      },
      "source": [
        "# Let's use the \"regr\" model and predict prices for each of the clients\n",
        "\n",
        "for i, price in enumerate(regr.predict(clients)):\n",
        "    print (\"Predicted price for client {}'s home ${:,.2f} \".format(i+1,price))\n"
      ],
      "execution_count": 0,
      "outputs": [
        {
          "output_type": "stream",
          "text": [
            "Predicted price for client 1's home $16.07 \n",
            "Predicted price for client 2's home $21.73 \n",
            "Predicted price for client 3's home $43.25 \n"
          ],
          "name": "stdout"
        }
      ]
    },
    {
      "cell_type": "code",
      "metadata": {
        "id": "5QHm5curQl5P",
        "colab_type": "code",
        "outputId": "ab9bb3d6-c67c-4800-d1ec-4c5b64b6cb3d",
        "colab": {
          "base_uri": "https://localhost:8080/",
          "height": 296
        }
      },
      "source": [
        "plt.hist(prices,bins=20)\n",
        "for price in regr.predict(clients):\n",
        "    plt.axvline(price, lw=5, c='r')"
      ],
      "execution_count": 0,
      "outputs": [
        {
          "output_type": "display_data",
          "data": {
            "image/png": "[encoded data removed]",
            "text/plain": [
              "<Figure size 432x288 with 1 Axes>"
            ]
          },
          "metadata": {
            "tags": []
          }
        }
      ]
    },
    {
      "cell_type": "code",
      "metadata": {
        "id": "fgPOM5mXQnu5",
        "colab_type": "code",
        "outputId": "c4a7cb01-62a9-4541-a2c1-5b8eb5242e6b",
        "colab": {
          "base_uri": "https://localhost:8080/",
          "height": 102
        }
      },
      "source": [
        "print (\"Min Price \",prices.min())\n",
        "print (\"Max Price \", prices.max())\n",
        "print (\"Mean Price \", prices.mean())\n",
        "print (\"Median Price \", np.median(prices))\n",
        "print (\" Prices - Standard Deviation \", np.std(prices))"
      ],
      "execution_count": 0,
      "outputs": [
        {
          "output_type": "stream",
          "text": [
            "Min Price  5.0\n",
            "Max Price  50.0\n",
            "Mean Price  22.532806324110677\n",
            "Median Price  21.2\n",
            " Prices - Standard Deviation  9.188011545278203\n"
          ],
          "name": "stdout"
        }
      ]
    },
    {
      "cell_type": "code",
      "metadata": {
        "id": "THPzMocSQp0u",
        "colab_type": "code",
        "colab": {}
      },
      "source": [
        ""
      ],
      "execution_count": 0,
      "outputs": []
    },
    {
      "cell_type": "markdown",
      "metadata": {
        "id": "fQFSdRiOQryX",
        "colab_type": "text"
      },
      "source": [
        "### Visualizing the data we see that \n",
        "\n",
        "* Client 1 is below the median (5 rooms, 15 to 1 PT ratio and 20% lower income)\n",
        "* Client 2 is closer to the median (4 rooms, 30 to 1 PT ratio and 10% lower income) and\n",
        "* Client 3 is closer to the max (8 rooms, 12 to 1 PT ratio and 3% lower income) \n",
        "    \n",
        "Was your intuition similar ? :)\n",
        "\n",
        "\n"
      ]
    },
    {
      "cell_type": "markdown",
      "metadata": {
        "id": "4nGMnocoiXyl",
        "colab_type": "text"
      },
      "source": [
        "## In Conclusion\n",
        "\n",
        "We used Regression to fit data during the training of the model, we tested the model using test data and we tried using the model to predict some fictional homes. \n",
        "\n",
        "We used several packages in this process. \n",
        "\n",
        "This is a taste of what ML can do .. there are many resources on the Net so please have fun exploring them!\n",
        "Thank you!"
      ]
    },
    {
      "cell_type": "code",
      "metadata": {
        "id": "19ZYVwnQQxV3",
        "colab_type": "code",
        "colab": {}
      },
      "source": [
        ""
      ],
      "execution_count": 0,
      "outputs": []
    }
  ]
}