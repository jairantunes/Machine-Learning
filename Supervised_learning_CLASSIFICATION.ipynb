{
  "nbformat": 4,
  "nbformat_minor": 0,
  "metadata": {
    "colab": {
      "name": "Supervised_learning - CLASSIFICATION.ipynb",
      "version": "0.3.2",
      "provenance": [],
      "collapsed_sections": [
        "0B8QHjMmi-0C",
        "tr1QUMJ_i-0D",
        "3okSYvA2i-0i",
        "QC8kk_yei-0z",
        "JmTSUaT_i-09"
      ],
      "toc_visible": true,
      "include_colab_link": true
    },
    "language_info": {
      "codemirror_mode": {
        "name": "ipython",
        "version": 3
      },
      "file_extension": ".py",
      "mimetype": "text/x-python",
      "name": "python",
      "nbconvert_exporter": "python",
      "pygments_lexer": "ipython3",
      "version": "3.5.5"
    },
    "kernelspec": {
      "display_name": "Python 3",
      "language": "python",
      "name": "python3"
    }
  },
  "cells": [
    {
      "cell_type": "markdown",
      "metadata": {
        "id": "view-in-github",
        "colab_type": "text"
      },
      "source": [
        "<a href=\"https://colab.research.google.com/github/jairantunes/Machine-Learning/blob/master/Supervised_learning_CLASSIFICATION.ipynb\" target=\"_parent\"><img src=\"https://colab.research.google.com/assets/colab-badge.svg\" alt=\"Open In Colab\"/></a>"
      ]
    },
    {
      "cell_type": "markdown",
      "metadata": {
        "id": "LIU5ukG7i-z0",
        "colab_type": "text"
      },
      "source": [
        "# Digits identification and classification using MNIST dataset - http://bit.ly/2VY5H7H\n",
        "\n",
        "## Classify hand written digits 0 through 9\n",
        "\n",
        "In this exercise we will explore Classification - identifying and then labeling objects in to their classes.\n",
        "We will be using **Tensorflow** as the framework to do this and exploring **neural networks** and **deep learning!**\n",
        "\n",
        "### This exercise in ML is like the \"Hello World\" for programming ! There are other frameworks beside Tensorflow such as mxnet that can be used to solve this. \n",
        "\n",
        "For more information check out Tensorflow tutorials https://www.tensorflow.org/tutorials/\n",
        "\n",
        "The data we will be using comes from MNIST (Modified National Institute of Standards and Technology) dataset that contains images of handwritten digits (by US Censor staff and highschool students) https://en.wikipedia.org/wiki/MNIST_database\n",
        "\n",
        "An example extract is below\n"
      ]
    },
    {
      "cell_type": "markdown",
      "metadata": {
        "id": "mMkUkTaIi-z1",
        "colab_type": "text"
      },
      "source": [
        "<center><img src=\"https://raw.githubusercontent.com/elthonf/AITE19/master/pics/mnist_examples.png\" alt=\"Drawing\" style=\"width: 300px;\"/></center>\n",
        "\n",
        "<center><img src=\"\n",
        "https://www.tensorflow.org/images/MNIST.png\"></center>"
      ]
    },
    {
      "cell_type": "code",
      "metadata": {
        "id": "n-1eFGnji-z1",
        "colab_type": "code",
        "colab": {}
      },
      "source": [
        "# import necessary packages\n",
        "# In this exercise, tensorflow also has built-in datasets - in this case the MNIST set\n",
        "import random as rnd\n",
        "import numpy as np\n",
        "import pandas as pd\n",
        "import tensorflow as tf\n",
        "\n",
        "from tensorflow.examples.tutorials.mnist import input_data as mnist_data\n",
        "from matplotlib import pyplot as plt\n"
      ],
      "execution_count": 0,
      "outputs": []
    },
    {
      "cell_type": "markdown",
      "metadata": {
        "id": "eQWfjFvOi-z4",
        "colab_type": "text"
      },
      "source": [
        "# Read in the data\n",
        "\n",
        "### Please note that we used the tensorflow built-in functions to import the MNIST data above. "
      ]
    },
    {
      "cell_type": "code",
      "metadata": {
        "id": "attquiO0i-z4",
        "colab_type": "code",
        "colab": {
          "base_uri": "https://localhost:8080/",
          "height": 530
        },
        "outputId": "4867d861-7096-4822-abb1-8c1597f10cdf"
      },
      "source": [
        "# Download images and labels into mnist.test (10K images+labels) and mnist.train (60K images+labels)\n",
        "mnist = mnist_data.read_data_sets(\"data\", one_hot=True, reshape=False, validation_size=0)"
      ],
      "execution_count": 2,
      "outputs": [
        {
          "output_type": "stream",
          "text": [
            "WARNING:tensorflow:From <ipython-input-2-ba0436519674>:1: read_data_sets (from tensorflow.contrib.learn.python.learn.datasets.mnist) is deprecated and will be removed in a future version.\n",
            "Instructions for updating:\n",
            "Please use alternatives such as official/mnist/dataset.py from tensorflow/models.\n",
            "WARNING:tensorflow:From /usr/local/lib/python3.6/dist-packages/tensorflow/contrib/learn/python/learn/datasets/mnist.py:260: maybe_download (from tensorflow.contrib.learn.python.learn.datasets.base) is deprecated and will be removed in a future version.\n",
            "Instructions for updating:\n",
            "Please write your own downloading logic.\n",
            "WARNING:tensorflow:From /usr/local/lib/python3.6/dist-packages/tensorflow/contrib/learn/python/learn/datasets/base.py:252: _internal_retry.<locals>.wrap.<locals>.wrapped_fn (from tensorflow.contrib.learn.python.learn.datasets.base) is deprecated and will be removed in a future version.\n",
            "Instructions for updating:\n",
            "Please use urllib or similar directly.\n",
            "Successfully downloaded train-images-idx3-ubyte.gz 9912422 bytes.\n",
            "WARNING:tensorflow:From /usr/local/lib/python3.6/dist-packages/tensorflow/contrib/learn/python/learn/datasets/mnist.py:262: extract_images (from tensorflow.contrib.learn.python.learn.datasets.mnist) is deprecated and will be removed in a future version.\n",
            "Instructions for updating:\n",
            "Please use tf.data to implement this functionality.\n",
            "Extracting data/train-images-idx3-ubyte.gz\n",
            "Successfully downloaded train-labels-idx1-ubyte.gz 28881 bytes.\n",
            "WARNING:tensorflow:From /usr/local/lib/python3.6/dist-packages/tensorflow/contrib/learn/python/learn/datasets/mnist.py:267: extract_labels (from tensorflow.contrib.learn.python.learn.datasets.mnist) is deprecated and will be removed in a future version.\n",
            "Instructions for updating:\n",
            "Please use tf.data to implement this functionality.\n",
            "Extracting data/train-labels-idx1-ubyte.gz\n",
            "WARNING:tensorflow:From /usr/local/lib/python3.6/dist-packages/tensorflow/contrib/learn/python/learn/datasets/mnist.py:110: dense_to_one_hot (from tensorflow.contrib.learn.python.learn.datasets.mnist) is deprecated and will be removed in a future version.\n",
            "Instructions for updating:\n",
            "Please use tf.one_hot on tensors.\n",
            "Successfully downloaded t10k-images-idx3-ubyte.gz 1648877 bytes.\n",
            "Extracting data/t10k-images-idx3-ubyte.gz\n",
            "Successfully downloaded t10k-labels-idx1-ubyte.gz 4542 bytes.\n",
            "Extracting data/t10k-labels-idx1-ubyte.gz\n",
            "WARNING:tensorflow:From /usr/local/lib/python3.6/dist-packages/tensorflow/contrib/learn/python/learn/datasets/mnist.py:290: DataSet.__init__ (from tensorflow.contrib.learn.python.learn.datasets.mnist) is deprecated and will be removed in a future version.\n",
            "Instructions for updating:\n",
            "Please use alternatives such as official/mnist/dataset.py from tensorflow/models.\n"
          ],
          "name": "stdout"
        }
      ]
    },
    {
      "cell_type": "code",
      "metadata": {
        "id": "gMtp15qFoqoZ",
        "colab_type": "code",
        "colab": {
          "base_uri": "https://localhost:8080/",
          "height": 242
        },
        "outputId": "8547436a-a36c-4fb9-aa33-67b1ff84e6d0"
      },
      "source": [
        "# Have a look at a written digit in the MNIST set\n",
        "myexample = rnd.randrange(0,mnist.train.num_examples)\n",
        "\n",
        "ex_number = mnist.train.images[myexample]  # change the index here to see different images\n",
        "ex_number = ex_number.reshape(28, 28)\n",
        "fig = plt.figure(figsize=(12,7))\n",
        "ax = fig.add_subplot(211) \n",
        "plt.imshow(ex_number, cmap='gist_yarg')  \n",
        "ax.set_aspect('equal')\n",
        "plt.colorbar(orientation='vertical')\n",
        "\n",
        "ax = fig.add_subplot(221) \n",
        "plt.imshow(ex_number, cmap='gray')  \n",
        "ax.set_aspect('equal')\n",
        "plt.colorbar(orientation='vertical')\n",
        "\n",
        "plt.show() \n",
        "print (mnist.train.labels[myexample] , \" -> \" , np.argmax( mnist.train.labels[myexample]) )"
      ],
      "execution_count": 3,
      "outputs": [
        {
          "output_type": "display_data",
          "data": {
            "image/png": "[encoded data removed]",
            "text/plain": [
              "<Figure size 864x504 with 4 Axes>"
            ]
          },
          "metadata": {
            "tags": []
          }
        },
        {
          "output_type": "stream",
          "text": [
            "[0. 0. 0. 0. 0. 0. 0. 1. 0. 0.]  ->  7\n"
          ],
          "name": "stdout"
        }
      ]
    },
    {
      "cell_type": "markdown",
      "metadata": {
        "id": "UpnF1VbmI7fP",
        "colab_type": "text"
      },
      "source": [
        "In fact, the number you have just seen is coded like this:"
      ]
    },
    {
      "cell_type": "code",
      "metadata": {
        "id": "BSoV89cWMsRe",
        "colab_type": "code",
        "colab": {
          "base_uri": "https://localhost:8080/",
          "height": 917
        },
        "outputId": "0480e259-04e6-4c9d-8b07-ea1290af15d4"
      },
      "source": [
        "ex_number_list = (ex_number.reshape(28 * 28) * 255).astype(int)\n",
        "ex_text = [b if b != 0 else '' for b in ex_number_list]\n",
        "pd.DataFrame( np.reshape(ex_text, (28,28)) )"
      ],
      "execution_count": 4,
      "outputs": [
        {
          "output_type": "execute_result",
          "data": {
            "text/html": [
              "<div>\n",
              "<style scoped>\n",
              "    .dataframe tbody tr th:only-of-type {\n",
              "        vertical-align: middle;\n",
              "    }\n",
              "\n",
              "    .dataframe tbody tr th {\n",
              "        vertical-align: top;\n",
              "    }\n",
              "\n",
              "    .dataframe thead th {\n",
              "        text-align: right;\n",
              "    }\n",
              "</style>\n",
              "<table border=\"1\" class=\"dataframe\">\n",
              "  <thead>\n",
              "    <tr style=\"text-align: right;\">\n",
              "      <th></th>\n",
              "      <th>0</th>\n",
              "      <th>1</th>\n",
              "      <th>2</th>\n",
              "      <th>3</th>\n",
              "      <th>4</th>\n",
              "      <th>5</th>\n",
              "      <th>6</th>\n",
              "      <th>7</th>\n",
              "      <th>8</th>\n",
              "      <th>9</th>\n",
              "      <th>10</th>\n",
              "      <th>11</th>\n",
              "      <th>12</th>\n",
              "      <th>13</th>\n",
              "      <th>14</th>\n",
              "      <th>15</th>\n",
              "      <th>16</th>\n",
              "      <th>17</th>\n",
              "      <th>18</th>\n",
              "      <th>19</th>\n",
              "      <th>20</th>\n",
              "      <th>21</th>\n",
              "      <th>22</th>\n",
              "      <th>23</th>\n",
              "      <th>24</th>\n",
              "      <th>25</th>\n",
              "      <th>26</th>\n",
              "      <th>27</th>\n",
              "    </tr>\n",
              "  </thead>\n",
              "  <tbody>\n",
              "    <tr>\n",
              "      <th>0</th>\n",
              "      <td></td>\n",
              "      <td></td>\n",
              "      <td></td>\n",
              "      <td></td>\n",
              "      <td></td>\n",
              "      <td></td>\n",
              "      <td></td>\n",
              "      <td></td>\n",
              "      <td></td>\n",
              "      <td></td>\n",
              "      <td></td>\n",
              "      <td></td>\n",
              "      <td></td>\n",
              "      <td></td>\n",
              "      <td></td>\n",
              "      <td></td>\n",
              "      <td></td>\n",
              "      <td></td>\n",
              "      <td></td>\n",
              "      <td></td>\n",
              "      <td></td>\n",
              "      <td></td>\n",
              "      <td></td>\n",
              "      <td></td>\n",
              "      <td></td>\n",
              "      <td></td>\n",
              "      <td></td>\n",
              "      <td></td>\n",
              "    </tr>\n",
              "    <tr>\n",
              "      <th>1</th>\n",
              "      <td></td>\n",
              "      <td></td>\n",
              "      <td></td>\n",
              "      <td></td>\n",
              "      <td></td>\n",
              "      <td></td>\n",
              "      <td></td>\n",
              "      <td></td>\n",
              "      <td></td>\n",
              "      <td></td>\n",
              "      <td></td>\n",
              "      <td></td>\n",
              "      <td></td>\n",
              "      <td></td>\n",
              "      <td></td>\n",
              "      <td></td>\n",
              "      <td></td>\n",
              "      <td></td>\n",
              "      <td></td>\n",
              "      <td></td>\n",
              "      <td></td>\n",
              "      <td></td>\n",
              "      <td></td>\n",
              "      <td></td>\n",
              "      <td></td>\n",
              "      <td></td>\n",
              "      <td></td>\n",
              "      <td></td>\n",
              "    </tr>\n",
              "    <tr>\n",
              "      <th>2</th>\n",
              "      <td></td>\n",
              "      <td></td>\n",
              "      <td></td>\n",
              "      <td></td>\n",
              "      <td></td>\n",
              "      <td></td>\n",
              "      <td></td>\n",
              "      <td></td>\n",
              "      <td></td>\n",
              "      <td></td>\n",
              "      <td></td>\n",
              "      <td></td>\n",
              "      <td></td>\n",
              "      <td></td>\n",
              "      <td></td>\n",
              "      <td></td>\n",
              "      <td></td>\n",
              "      <td></td>\n",
              "      <td></td>\n",
              "      <td></td>\n",
              "      <td></td>\n",
              "      <td></td>\n",
              "      <td></td>\n",
              "      <td></td>\n",
              "      <td></td>\n",
              "      <td></td>\n",
              "      <td></td>\n",
              "      <td></td>\n",
              "    </tr>\n",
              "    <tr>\n",
              "      <th>3</th>\n",
              "      <td></td>\n",
              "      <td></td>\n",
              "      <td></td>\n",
              "      <td></td>\n",
              "      <td></td>\n",
              "      <td></td>\n",
              "      <td></td>\n",
              "      <td></td>\n",
              "      <td></td>\n",
              "      <td></td>\n",
              "      <td></td>\n",
              "      <td></td>\n",
              "      <td></td>\n",
              "      <td></td>\n",
              "      <td></td>\n",
              "      <td></td>\n",
              "      <td></td>\n",
              "      <td></td>\n",
              "      <td></td>\n",
              "      <td></td>\n",
              "      <td></td>\n",
              "      <td></td>\n",
              "      <td></td>\n",
              "      <td></td>\n",
              "      <td></td>\n",
              "      <td></td>\n",
              "      <td></td>\n",
              "      <td></td>\n",
              "    </tr>\n",
              "    <tr>\n",
              "      <th>4</th>\n",
              "      <td></td>\n",
              "      <td></td>\n",
              "      <td></td>\n",
              "      <td></td>\n",
              "      <td></td>\n",
              "      <td></td>\n",
              "      <td></td>\n",
              "      <td></td>\n",
              "      <td></td>\n",
              "      <td></td>\n",
              "      <td></td>\n",
              "      <td></td>\n",
              "      <td></td>\n",
              "      <td></td>\n",
              "      <td></td>\n",
              "      <td></td>\n",
              "      <td></td>\n",
              "      <td></td>\n",
              "      <td></td>\n",
              "      <td></td>\n",
              "      <td></td>\n",
              "      <td></td>\n",
              "      <td></td>\n",
              "      <td></td>\n",
              "      <td></td>\n",
              "      <td></td>\n",
              "      <td></td>\n",
              "      <td></td>\n",
              "    </tr>\n",
              "    <tr>\n",
              "      <th>5</th>\n",
              "      <td></td>\n",
              "      <td></td>\n",
              "      <td></td>\n",
              "      <td></td>\n",
              "      <td></td>\n",
              "      <td></td>\n",
              "      <td></td>\n",
              "      <td></td>\n",
              "      <td></td>\n",
              "      <td></td>\n",
              "      <td></td>\n",
              "      <td></td>\n",
              "      <td></td>\n",
              "      <td></td>\n",
              "      <td></td>\n",
              "      <td></td>\n",
              "      <td></td>\n",
              "      <td></td>\n",
              "      <td></td>\n",
              "      <td></td>\n",
              "      <td></td>\n",
              "      <td></td>\n",
              "      <td></td>\n",
              "      <td></td>\n",
              "      <td></td>\n",
              "      <td></td>\n",
              "      <td></td>\n",
              "      <td></td>\n",
              "    </tr>\n",
              "    <tr>\n",
              "      <th>6</th>\n",
              "      <td></td>\n",
              "      <td></td>\n",
              "      <td></td>\n",
              "      <td></td>\n",
              "      <td></td>\n",
              "      <td></td>\n",
              "      <td></td>\n",
              "      <td></td>\n",
              "      <td></td>\n",
              "      <td></td>\n",
              "      <td></td>\n",
              "      <td></td>\n",
              "      <td></td>\n",
              "      <td></td>\n",
              "      <td></td>\n",
              "      <td></td>\n",
              "      <td></td>\n",
              "      <td></td>\n",
              "      <td></td>\n",
              "      <td></td>\n",
              "      <td></td>\n",
              "      <td></td>\n",
              "      <td></td>\n",
              "      <td></td>\n",
              "      <td></td>\n",
              "      <td></td>\n",
              "      <td></td>\n",
              "      <td></td>\n",
              "    </tr>\n",
              "    <tr>\n",
              "      <th>7</th>\n",
              "      <td></td>\n",
              "      <td></td>\n",
              "      <td></td>\n",
              "      <td></td>\n",
              "      <td></td>\n",
              "      <td></td>\n",
              "      <td></td>\n",
              "      <td></td>\n",
              "      <td></td>\n",
              "      <td></td>\n",
              "      <td></td>\n",
              "      <td></td>\n",
              "      <td></td>\n",
              "      <td></td>\n",
              "      <td></td>\n",
              "      <td></td>\n",
              "      <td></td>\n",
              "      <td></td>\n",
              "      <td></td>\n",
              "      <td></td>\n",
              "      <td></td>\n",
              "      <td></td>\n",
              "      <td></td>\n",
              "      <td></td>\n",
              "      <td></td>\n",
              "      <td></td>\n",
              "      <td></td>\n",
              "      <td></td>\n",
              "    </tr>\n",
              "    <tr>\n",
              "      <th>8</th>\n",
              "      <td></td>\n",
              "      <td></td>\n",
              "      <td></td>\n",
              "      <td></td>\n",
              "      <td></td>\n",
              "      <td></td>\n",
              "      <td></td>\n",
              "      <td>11</td>\n",
              "      <td>87</td>\n",
              "      <td>149</td>\n",
              "      <td>148</td>\n",
              "      <td>148</td>\n",
              "      <td>193</td>\n",
              "      <td>237</td>\n",
              "      <td>238</td>\n",
              "      <td>148</td>\n",
              "      <td>148</td>\n",
              "      <td>219</td>\n",
              "      <td>254</td>\n",
              "      <td>168</td>\n",
              "      <td></td>\n",
              "      <td></td>\n",
              "      <td></td>\n",
              "      <td></td>\n",
              "      <td></td>\n",
              "      <td></td>\n",
              "      <td></td>\n",
              "      <td></td>\n",
              "    </tr>\n",
              "    <tr>\n",
              "      <th>9</th>\n",
              "      <td></td>\n",
              "      <td></td>\n",
              "      <td></td>\n",
              "      <td></td>\n",
              "      <td></td>\n",
              "      <td></td>\n",
              "      <td></td>\n",
              "      <td>143</td>\n",
              "      <td>253</td>\n",
              "      <td>254</td>\n",
              "      <td>253</td>\n",
              "      <td>253</td>\n",
              "      <td>253</td>\n",
              "      <td>253</td>\n",
              "      <td>254</td>\n",
              "      <td>253</td>\n",
              "      <td>253</td>\n",
              "      <td>253</td>\n",
              "      <td>253</td>\n",
              "      <td>212</td>\n",
              "      <td></td>\n",
              "      <td></td>\n",
              "      <td></td>\n",
              "      <td></td>\n",
              "      <td></td>\n",
              "      <td></td>\n",
              "      <td></td>\n",
              "      <td></td>\n",
              "    </tr>\n",
              "    <tr>\n",
              "      <th>10</th>\n",
              "      <td></td>\n",
              "      <td></td>\n",
              "      <td></td>\n",
              "      <td></td>\n",
              "      <td></td>\n",
              "      <td></td>\n",
              "      <td></td>\n",
              "      <td>169</td>\n",
              "      <td>253</td>\n",
              "      <td>254</td>\n",
              "      <td>253</td>\n",
              "      <td>253</td>\n",
              "      <td>253</td>\n",
              "      <td>236</td>\n",
              "      <td>215</td>\n",
              "      <td>127</td>\n",
              "      <td>127</td>\n",
              "      <td>153</td>\n",
              "      <td>241</td>\n",
              "      <td>216</td>\n",
              "      <td>6</td>\n",
              "      <td></td>\n",
              "      <td></td>\n",
              "      <td></td>\n",
              "      <td></td>\n",
              "      <td></td>\n",
              "      <td></td>\n",
              "      <td></td>\n",
              "    </tr>\n",
              "    <tr>\n",
              "      <th>11</th>\n",
              "      <td></td>\n",
              "      <td></td>\n",
              "      <td></td>\n",
              "      <td></td>\n",
              "      <td></td>\n",
              "      <td></td>\n",
              "      <td></td>\n",
              "      <td>169</td>\n",
              "      <td>253</td>\n",
              "      <td>244</td>\n",
              "      <td>190</td>\n",
              "      <td>181</td>\n",
              "      <td>84</td>\n",
              "      <td>14</td>\n",
              "      <td></td>\n",
              "      <td></td>\n",
              "      <td></td>\n",
              "      <td></td>\n",
              "      <td>107</td>\n",
              "      <td>254</td>\n",
              "      <td>63</td>\n",
              "      <td></td>\n",
              "      <td></td>\n",
              "      <td></td>\n",
              "      <td></td>\n",
              "      <td></td>\n",
              "      <td></td>\n",
              "      <td></td>\n",
              "    </tr>\n",
              "    <tr>\n",
              "      <th>12</th>\n",
              "      <td></td>\n",
              "      <td></td>\n",
              "      <td></td>\n",
              "      <td></td>\n",
              "      <td></td>\n",
              "      <td></td>\n",
              "      <td></td>\n",
              "      <td>169</td>\n",
              "      <td>209</td>\n",
              "      <td>35</td>\n",
              "      <td></td>\n",
              "      <td></td>\n",
              "      <td></td>\n",
              "      <td></td>\n",
              "      <td></td>\n",
              "      <td></td>\n",
              "      <td></td>\n",
              "      <td></td>\n",
              "      <td>107</td>\n",
              "      <td>254</td>\n",
              "      <td>63</td>\n",
              "      <td></td>\n",
              "      <td></td>\n",
              "      <td></td>\n",
              "      <td></td>\n",
              "      <td></td>\n",
              "      <td></td>\n",
              "      <td></td>\n",
              "    </tr>\n",
              "    <tr>\n",
              "      <th>13</th>\n",
              "      <td></td>\n",
              "      <td></td>\n",
              "      <td></td>\n",
              "      <td></td>\n",
              "      <td></td>\n",
              "      <td></td>\n",
              "      <td></td>\n",
              "      <td>170</td>\n",
              "      <td>148</td>\n",
              "      <td></td>\n",
              "      <td></td>\n",
              "      <td></td>\n",
              "      <td></td>\n",
              "      <td></td>\n",
              "      <td></td>\n",
              "      <td></td>\n",
              "      <td></td>\n",
              "      <td></td>\n",
              "      <td>213</td>\n",
              "      <td>213</td>\n",
              "      <td></td>\n",
              "      <td></td>\n",
              "      <td></td>\n",
              "      <td></td>\n",
              "      <td></td>\n",
              "      <td></td>\n",
              "      <td></td>\n",
              "      <td></td>\n",
              "    </tr>\n",
              "    <tr>\n",
              "      <th>14</th>\n",
              "      <td></td>\n",
              "      <td></td>\n",
              "      <td></td>\n",
              "      <td></td>\n",
              "      <td></td>\n",
              "      <td></td>\n",
              "      <td></td>\n",
              "      <td>169</td>\n",
              "      <td>147</td>\n",
              "      <td></td>\n",
              "      <td></td>\n",
              "      <td></td>\n",
              "      <td></td>\n",
              "      <td></td>\n",
              "      <td></td>\n",
              "      <td></td>\n",
              "      <td></td>\n",
              "      <td></td>\n",
              "      <td>212</td>\n",
              "      <td>212</td>\n",
              "      <td></td>\n",
              "      <td></td>\n",
              "      <td></td>\n",
              "      <td></td>\n",
              "      <td></td>\n",
              "      <td></td>\n",
              "      <td></td>\n",
              "      <td></td>\n",
              "    </tr>\n",
              "    <tr>\n",
              "      <th>15</th>\n",
              "      <td></td>\n",
              "      <td></td>\n",
              "      <td></td>\n",
              "      <td></td>\n",
              "      <td></td>\n",
              "      <td></td>\n",
              "      <td></td>\n",
              "      <td>41</td>\n",
              "      <td>74</td>\n",
              "      <td></td>\n",
              "      <td></td>\n",
              "      <td></td>\n",
              "      <td></td>\n",
              "      <td></td>\n",
              "      <td></td>\n",
              "      <td></td>\n",
              "      <td></td>\n",
              "      <td>33</td>\n",
              "      <td>233</td>\n",
              "      <td>212</td>\n",
              "      <td></td>\n",
              "      <td></td>\n",
              "      <td></td>\n",
              "      <td></td>\n",
              "      <td></td>\n",
              "      <td></td>\n",
              "      <td></td>\n",
              "      <td></td>\n",
              "    </tr>\n",
              "    <tr>\n",
              "      <th>16</th>\n",
              "      <td></td>\n",
              "      <td></td>\n",
              "      <td></td>\n",
              "      <td></td>\n",
              "      <td></td>\n",
              "      <td></td>\n",
              "      <td></td>\n",
              "      <td></td>\n",
              "      <td></td>\n",
              "      <td></td>\n",
              "      <td></td>\n",
              "      <td></td>\n",
              "      <td></td>\n",
              "      <td></td>\n",
              "      <td></td>\n",
              "      <td></td>\n",
              "      <td></td>\n",
              "      <td>134</td>\n",
              "      <td>253</td>\n",
              "      <td>212</td>\n",
              "      <td></td>\n",
              "      <td></td>\n",
              "      <td></td>\n",
              "      <td></td>\n",
              "      <td></td>\n",
              "      <td></td>\n",
              "      <td></td>\n",
              "      <td></td>\n",
              "    </tr>\n",
              "    <tr>\n",
              "      <th>17</th>\n",
              "      <td></td>\n",
              "      <td></td>\n",
              "      <td></td>\n",
              "      <td></td>\n",
              "      <td></td>\n",
              "      <td></td>\n",
              "      <td></td>\n",
              "      <td></td>\n",
              "      <td></td>\n",
              "      <td></td>\n",
              "      <td></td>\n",
              "      <td></td>\n",
              "      <td></td>\n",
              "      <td></td>\n",
              "      <td></td>\n",
              "      <td></td>\n",
              "      <td></td>\n",
              "      <td>169</td>\n",
              "      <td>253</td>\n",
              "      <td>124</td>\n",
              "      <td></td>\n",
              "      <td></td>\n",
              "      <td></td>\n",
              "      <td></td>\n",
              "      <td></td>\n",
              "      <td></td>\n",
              "      <td></td>\n",
              "      <td></td>\n",
              "    </tr>\n",
              "    <tr>\n",
              "      <th>18</th>\n",
              "      <td></td>\n",
              "      <td></td>\n",
              "      <td></td>\n",
              "      <td></td>\n",
              "      <td></td>\n",
              "      <td></td>\n",
              "      <td></td>\n",
              "      <td></td>\n",
              "      <td></td>\n",
              "      <td></td>\n",
              "      <td></td>\n",
              "      <td></td>\n",
              "      <td></td>\n",
              "      <td></td>\n",
              "      <td></td>\n",
              "      <td></td>\n",
              "      <td>13</td>\n",
              "      <td>219</td>\n",
              "      <td>254</td>\n",
              "      <td>45</td>\n",
              "      <td></td>\n",
              "      <td></td>\n",
              "      <td></td>\n",
              "      <td></td>\n",
              "      <td></td>\n",
              "      <td></td>\n",
              "      <td></td>\n",
              "      <td></td>\n",
              "    </tr>\n",
              "    <tr>\n",
              "      <th>19</th>\n",
              "      <td></td>\n",
              "      <td></td>\n",
              "      <td></td>\n",
              "      <td></td>\n",
              "      <td></td>\n",
              "      <td></td>\n",
              "      <td></td>\n",
              "      <td></td>\n",
              "      <td></td>\n",
              "      <td></td>\n",
              "      <td></td>\n",
              "      <td></td>\n",
              "      <td></td>\n",
              "      <td></td>\n",
              "      <td></td>\n",
              "      <td></td>\n",
              "      <td>57</td>\n",
              "      <td>253</td>\n",
              "      <td>173</td>\n",
              "      <td></td>\n",
              "      <td></td>\n",
              "      <td></td>\n",
              "      <td></td>\n",
              "      <td></td>\n",
              "      <td></td>\n",
              "      <td></td>\n",
              "      <td></td>\n",
              "      <td></td>\n",
              "    </tr>\n",
              "    <tr>\n",
              "      <th>20</th>\n",
              "      <td></td>\n",
              "      <td></td>\n",
              "      <td></td>\n",
              "      <td></td>\n",
              "      <td></td>\n",
              "      <td></td>\n",
              "      <td></td>\n",
              "      <td></td>\n",
              "      <td></td>\n",
              "      <td></td>\n",
              "      <td></td>\n",
              "      <td></td>\n",
              "      <td></td>\n",
              "      <td></td>\n",
              "      <td></td>\n",
              "      <td></td>\n",
              "      <td>180</td>\n",
              "      <td>253</td>\n",
              "      <td>138</td>\n",
              "      <td></td>\n",
              "      <td></td>\n",
              "      <td></td>\n",
              "      <td></td>\n",
              "      <td></td>\n",
              "      <td></td>\n",
              "      <td></td>\n",
              "      <td></td>\n",
              "      <td></td>\n",
              "    </tr>\n",
              "    <tr>\n",
              "      <th>21</th>\n",
              "      <td></td>\n",
              "      <td></td>\n",
              "      <td></td>\n",
              "      <td></td>\n",
              "      <td></td>\n",
              "      <td></td>\n",
              "      <td></td>\n",
              "      <td></td>\n",
              "      <td></td>\n",
              "      <td></td>\n",
              "      <td></td>\n",
              "      <td></td>\n",
              "      <td></td>\n",
              "      <td></td>\n",
              "      <td></td>\n",
              "      <td></td>\n",
              "      <td>233</td>\n",
              "      <td>253</td>\n",
              "      <td>42</td>\n",
              "      <td></td>\n",
              "      <td></td>\n",
              "      <td></td>\n",
              "      <td></td>\n",
              "      <td></td>\n",
              "      <td></td>\n",
              "      <td></td>\n",
              "      <td></td>\n",
              "      <td></td>\n",
              "    </tr>\n",
              "    <tr>\n",
              "      <th>22</th>\n",
              "      <td></td>\n",
              "      <td></td>\n",
              "      <td></td>\n",
              "      <td></td>\n",
              "      <td></td>\n",
              "      <td></td>\n",
              "      <td></td>\n",
              "      <td></td>\n",
              "      <td></td>\n",
              "      <td></td>\n",
              "      <td></td>\n",
              "      <td></td>\n",
              "      <td></td>\n",
              "      <td></td>\n",
              "      <td></td>\n",
              "      <td></td>\n",
              "      <td>233</td>\n",
              "      <td>227</td>\n",
              "      <td>25</td>\n",
              "      <td></td>\n",
              "      <td></td>\n",
              "      <td></td>\n",
              "      <td></td>\n",
              "      <td></td>\n",
              "      <td></td>\n",
              "      <td></td>\n",
              "      <td></td>\n",
              "      <td></td>\n",
              "    </tr>\n",
              "    <tr>\n",
              "      <th>23</th>\n",
              "      <td></td>\n",
              "      <td></td>\n",
              "      <td></td>\n",
              "      <td></td>\n",
              "      <td></td>\n",
              "      <td></td>\n",
              "      <td></td>\n",
              "      <td></td>\n",
              "      <td></td>\n",
              "      <td></td>\n",
              "      <td></td>\n",
              "      <td></td>\n",
              "      <td></td>\n",
              "      <td></td>\n",
              "      <td></td>\n",
              "      <td>104</td>\n",
              "      <td>255</td>\n",
              "      <td>85</td>\n",
              "      <td></td>\n",
              "      <td></td>\n",
              "      <td></td>\n",
              "      <td></td>\n",
              "      <td></td>\n",
              "      <td></td>\n",
              "      <td></td>\n",
              "      <td></td>\n",
              "      <td></td>\n",
              "      <td></td>\n",
              "    </tr>\n",
              "    <tr>\n",
              "      <th>24</th>\n",
              "      <td></td>\n",
              "      <td></td>\n",
              "      <td></td>\n",
              "      <td></td>\n",
              "      <td></td>\n",
              "      <td></td>\n",
              "      <td></td>\n",
              "      <td></td>\n",
              "      <td></td>\n",
              "      <td></td>\n",
              "      <td></td>\n",
              "      <td></td>\n",
              "      <td></td>\n",
              "      <td></td>\n",
              "      <td>33</td>\n",
              "      <td>238</td>\n",
              "      <td>253</td>\n",
              "      <td>84</td>\n",
              "      <td></td>\n",
              "      <td></td>\n",
              "      <td></td>\n",
              "      <td></td>\n",
              "      <td></td>\n",
              "      <td></td>\n",
              "      <td></td>\n",
              "      <td></td>\n",
              "      <td></td>\n",
              "      <td></td>\n",
              "    </tr>\n",
              "    <tr>\n",
              "      <th>25</th>\n",
              "      <td></td>\n",
              "      <td></td>\n",
              "      <td></td>\n",
              "      <td></td>\n",
              "      <td></td>\n",
              "      <td></td>\n",
              "      <td></td>\n",
              "      <td></td>\n",
              "      <td></td>\n",
              "      <td></td>\n",
              "      <td></td>\n",
              "      <td></td>\n",
              "      <td></td>\n",
              "      <td></td>\n",
              "      <td>96</td>\n",
              "      <td>253</td>\n",
              "      <td>225</td>\n",
              "      <td>7</td>\n",
              "      <td></td>\n",
              "      <td></td>\n",
              "      <td></td>\n",
              "      <td></td>\n",
              "      <td></td>\n",
              "      <td></td>\n",
              "      <td></td>\n",
              "      <td></td>\n",
              "      <td></td>\n",
              "      <td></td>\n",
              "    </tr>\n",
              "    <tr>\n",
              "      <th>26</th>\n",
              "      <td></td>\n",
              "      <td></td>\n",
              "      <td></td>\n",
              "      <td></td>\n",
              "      <td></td>\n",
              "      <td></td>\n",
              "      <td></td>\n",
              "      <td></td>\n",
              "      <td></td>\n",
              "      <td></td>\n",
              "      <td></td>\n",
              "      <td></td>\n",
              "      <td></td>\n",
              "      <td></td>\n",
              "      <td>219</td>\n",
              "      <td>253</td>\n",
              "      <td>100</td>\n",
              "      <td></td>\n",
              "      <td></td>\n",
              "      <td></td>\n",
              "      <td></td>\n",
              "      <td></td>\n",
              "      <td></td>\n",
              "      <td></td>\n",
              "      <td></td>\n",
              "      <td></td>\n",
              "      <td></td>\n",
              "      <td></td>\n",
              "    </tr>\n",
              "    <tr>\n",
              "      <th>27</th>\n",
              "      <td></td>\n",
              "      <td></td>\n",
              "      <td></td>\n",
              "      <td></td>\n",
              "      <td></td>\n",
              "      <td></td>\n",
              "      <td></td>\n",
              "      <td></td>\n",
              "      <td></td>\n",
              "      <td></td>\n",
              "      <td></td>\n",
              "      <td></td>\n",
              "      <td></td>\n",
              "      <td>89</td>\n",
              "      <td>254</td>\n",
              "      <td>218</td>\n",
              "      <td>12</td>\n",
              "      <td></td>\n",
              "      <td></td>\n",
              "      <td></td>\n",
              "      <td></td>\n",
              "      <td></td>\n",
              "      <td></td>\n",
              "      <td></td>\n",
              "      <td></td>\n",
              "      <td></td>\n",
              "      <td></td>\n",
              "      <td></td>\n",
              "    </tr>\n",
              "  </tbody>\n",
              "</table>\n",
              "</div>"
            ],
            "text/plain": [
              "   0  1  2  3  4  5  6    7    8    9   ...   18   19  20 21 22 23 24 25 26 27\n",
              "0                                       ...                                   \n",
              "1                                       ...                                   \n",
              "2                                       ...                                   \n",
              "3                                       ...                                   \n",
              "4                                       ...                                   \n",
              "5                                       ...                                   \n",
              "6                                       ...                                   \n",
              "7                                       ...                                   \n",
              "8                         11   87  149  ...  254  168                         \n",
              "9                        143  253  254  ...  253  212                         \n",
              "10                       169  253  254  ...  241  216   6                     \n",
              "11                       169  253  244  ...  107  254  63                     \n",
              "12                       169  209   35  ...  107  254  63                     \n",
              "13                       170  148       ...  213  213                         \n",
              "14                       169  147       ...  212  212                         \n",
              "15                        41   74       ...  233  212                         \n",
              "16                                      ...  253  212                         \n",
              "17                                      ...  253  124                         \n",
              "18                                      ...  254   45                         \n",
              "19                                      ...  173                              \n",
              "20                                      ...  138                              \n",
              "21                                      ...   42                              \n",
              "22                                      ...   25                              \n",
              "23                                      ...                                   \n",
              "24                                      ...                                   \n",
              "25                                      ...                                   \n",
              "26                                      ...                                   \n",
              "27                                      ...                                   \n",
              "\n",
              "[28 rows x 28 columns]"
            ]
          },
          "metadata": {
            "tags": []
          },
          "execution_count": 4
        }
      ]
    },
    {
      "cell_type": "markdown",
      "metadata": {
        "id": "4StRp7wfi-z7",
        "colab_type": "text"
      },
      "source": [
        "# Basic One-Layer NN -- in pictures"
      ]
    },
    {
      "cell_type": "markdown",
      "metadata": {
        "id": "TyE4zlgKi-z8",
        "colab_type": "text"
      },
      "source": [
        "<font size = 5> Convert the image into data\n",
        "<font size = 4> We flatten the image into an 784-dimensional array of greyscale values."
      ]
    },
    {
      "cell_type": "markdown",
      "metadata": {
        "id": "M-EP0A7Mi-z8",
        "colab_type": "text"
      },
      "source": [
        "<center>\n",
        " <img src=\"https://raw.githubusercontent.com/elthonf/AITE19/master/pics/mnist-input2.png\" alt=\"Drawing\" style=\"width: 700px;\"/>\n",
        "</center>"
      ]
    },
    {
      "cell_type": "markdown",
      "metadata": {
        "id": "-MVxV9HAi-z9",
        "colab_type": "text"
      },
      "source": [
        "<font size = 4> To begin we'll design a 1-layer neural network with 10 output neurons since we want to classify digits into 10 classes (0 to 9)."
      ]
    },
    {
      "cell_type": "markdown",
      "metadata": {
        "id": "b89BIoGri-z9",
        "colab_type": "text"
      },
      "source": [
        "<center>\n",
        "<img src=\"https://raw.githubusercontent.com/elthonf/AITE19/master/pics/full_one_layer_example.png\" alt=\"Drawing\" style=\"width: 800px;\"/>\n",
        "  </center>"
      ]
    },
    {
      "cell_type": "markdown",
      "metadata": {
        "id": "QhhESa4Gi-z-",
        "colab_type": "text"
      },
      "source": [
        "<font size = 5> There are a handful of activation functions that are commonly used\n",
        "* <font size = 4> softmax\n",
        "* <font size = 4> sigmoid\n",
        "* <font size = 4> ReLu, leaky ReLU\n",
        "* <font size = 4> tanh, LeCun's tanh\n",
        "* <font size = 4> others\n",
        "\n",
        "\n",
        "\n",
        "<font size = 5> We use the cross entropy to measure the error\n",
        "\n",
        "### $$ \\text{cross entropy} = -\\sum Y_i'\\log(Y_i) $$\n",
        "\n",
        "\n",
        "<font size = 3>\n",
        "Cross entropy - wikipedia - https://en.wikipedia.org/wiki/Cross_entropy \n",
        "\n",
        "What is Cross Entropy  ? https://stackoverflow.com/questions/41990250/what-is-cross-entropy\n",
        "\n",
        "Loss functions - http://ml-cheatsheet.readthedocs.io/en/latest/loss_functions.html\n"
      ]
    },
    {
      "cell_type": "markdown",
      "metadata": {
        "id": "xOcn6nTNi-z-",
        "colab_type": "text"
      },
      "source": [
        "## Softmax Regressions \n",
        "\n",
        "{from Tensorflow tutorials https://www.tensorflow.org/versions/r1.0/get_started/mnist/beginners }\n",
        "\n",
        "\n",
        "We know that every image in MNIST is of a handwritten digit between zero and nine. So there are only ten possible things that a given image can be. We want to be able to look at an image and give the probabilities for it being each digit. For example, our model might look at a picture of a nine and be 80% sure it's a nine, but give a 5% chance to it being an eight (because of the top loop) and a bit of probability to all the others because it isn't 100% sure.\n",
        "\n",
        "This is a classic case where a softmax regression is a natural, simple model. If you want to assign probabilities to an object being one of several different things, softmax is the thing to do, because softmax gives us a list of values between 0 and 1 that add up to 1. Even later on, when we train more sophisticated models, the final step will be a layer of softmax.\n",
        "\n",
        "A softmax regression has two steps: first we add up the evidence of our input being in certain classes, and then we convert that evidence into probabilities."
      ]
    },
    {
      "cell_type": "markdown",
      "metadata": {
        "id": "bg724JfGi-z_",
        "colab_type": "text"
      },
      "source": [
        "# Basic One-Layer Neural Network -- at scale"
      ]
    },
    {
      "cell_type": "markdown",
      "metadata": {
        "id": "1A5hgh5Ti-z_",
        "colab_type": "text"
      },
      "source": [
        "<font size = 4> Rather than run through one example as a time, we'll take advantage of linear algebra and run through batches of 100 at a time. These are called **mini-batches**. One pass through the entire set of training examples is called an **epoch**.\n",
        "\n",
        "<font size = 4> It is possible to compute your gradient one element (stochastic gradient descent) at a time but using mini-batches is more efficient computationally. "
      ]
    },
    {
      "cell_type": "markdown",
      "metadata": {
        "id": "39FN-SDui-0A",
        "colab_type": "text"
      },
      "source": [
        "<center>\n",
        "<img src=\"https://raw.githubusercontent.com/elthonf/AITE19/master/pics/one_layer_gif.png\" alt=\"Drawing\" style=\"width: 600px;\"/>\n",
        "  </center>"
      ]
    },
    {
      "cell_type": "markdown",
      "metadata": {
        "id": "O-Tjb0Zki-0A",
        "colab_type": "text"
      },
      "source": [
        "<font size = 4> And our activation function takes the following form."
      ]
    },
    {
      "cell_type": "markdown",
      "metadata": {
        "id": "JeSkTXtdi-0A",
        "colab_type": "text"
      },
      "source": [
        "<center>\n",
        "<img src=\"https://raw.githubusercontent.com/elthonf/AITE19/master/pics/one_layer_output.png\" alt=\"Drawing\" style=\"width: 400px;\"/>\n",
        "  </center>"
      ]
    },
    {
      "cell_type": "markdown",
      "metadata": {
        "id": "n8tYPxkDi-0B",
        "colab_type": "text"
      },
      "source": [
        "<font size = 4> The error is computed just as before, using the cross entropy."
      ]
    },
    {
      "cell_type": "markdown",
      "metadata": {
        "id": "kcpF16THi-0C",
        "colab_type": "text"
      },
      "source": [
        "<center>\n",
        "<img src=\"https://raw.githubusercontent.com/elthonf/AITE19/master/pics/one_layer_crossentropy.png\" alt=\"Drawing\" style=\"width: 600px;\"/>\n",
        "  </center>"
      ]
    },
    {
      "cell_type": "markdown",
      "metadata": {
        "id": "0B8QHjMmi-0C",
        "colab_type": "text"
      },
      "source": [
        "### Q. Why work with \"mini-batches\" of 100 images and labels ?\n",
        "\n"
      ]
    },
    {
      "cell_type": "markdown",
      "metadata": {
        "id": "qlbDfoyoi-0D",
        "colab_type": "text"
      },
      "source": [
        "<font size = 4> It's possible to compute your gradient on just one example image at a time (\"stochastic gradient descent\"). Doing so on 100 examples gives a gradient that better represents the constraints imposed by different example images and is therefore likely to converge towards the solution faster. \n",
        "\n",
        "Can also adjust the size of the mini-batch. There is another, more technical reason: working with batches also means working with larger matrices and these are usually easier to optimise on GPUs."
      ]
    },
    {
      "cell_type": "markdown",
      "metadata": {
        "id": "tr1QUMJ_i-0D",
        "colab_type": "text"
      },
      "source": [
        "### Q. Why use cross entropy instead of Mean Square Error ?"
      ]
    },
    {
      "cell_type": "markdown",
      "metadata": {
        "id": "DC29QWCI_Gw7",
        "colab_type": "text"
      },
      "source": [
        "<font size = 4> You can use both but average cross entropy is considered better. Loosely, compared to average cross entropy, MSE gives too much weight to incorrect outputs. Also MSE a good measure for Regression models and Cross Entropy is for Classification."
      ]
    },
    {
      "cell_type": "markdown",
      "metadata": {
        "id": "09sH6td5i-0E",
        "colab_type": "text"
      },
      "source": [
        "# Basic One-Layer Neural Network -- Code"
      ]
    },
    {
      "cell_type": "markdown",
      "metadata": {
        "id": "r7nYaE-mi-0F",
        "colab_type": "text"
      },
      "source": [
        "<font size = 4> Set up place holders (a tensorflow concept) for the computational graph. \n",
        "\n",
        "These are parameters that will be filled with actual data from the actual training images."
      ]
    },
    {
      "cell_type": "code",
      "metadata": {
        "id": "dj9ke1qui-0F",
        "colab_type": "code",
        "colab": {
          "base_uri": "https://localhost:8080/",
          "height": 88
        },
        "outputId": "96cb70c6-d3a1-4909-9f34-878e03692b69"
      },
      "source": [
        "# input X: 28x28 grayscale images, the first dimension (None) will index the images in the mini-batch\n",
        "\n",
        "X = tf.placeholder(tf.float32, [None, 28, 28, 1])  # see explanation below\n",
        "\n",
        "# weights W[784, 10]   784=28*28\n",
        "W = tf.Variable(tf.zeros([784, 10]))  # zeroing the matrix \n",
        "\n",
        "# biases b[10]\n",
        "b = tf.Variable(tf.zeros([10]))  # zeroing the vector\n",
        "\n",
        "init = tf.global_variables_initializer() # initializing everything !"
      ],
      "execution_count": 5,
      "outputs": [
        {
          "output_type": "stream",
          "text": [
            "WARNING:tensorflow:From /usr/local/lib/python3.6/dist-packages/tensorflow/python/framework/op_def_library.py:263: colocate_with (from tensorflow.python.framework.ops) is deprecated and will be removed in a future version.\n",
            "Instructions for updating:\n",
            "Colocations handled automatically by placer.\n"
          ],
          "name": "stdout"
        }
      ]
    },
    {
      "cell_type": "markdown",
      "metadata": {
        "id": "Y71hjI2Bi-0H",
        "colab_type": "text"
      },
      "source": [
        "<font size = 4> Note that the shape of the tensor **X** holding the training images is [None, 28, 28, 1]. Here is what those arguments mean:\n",
        "\n",
        "    'None': this dimension will be the number of images in the mini-batch. It will be known at training time.\n",
        "    \n",
        "    '28, 28, 1': our images are 28x28 pixels x 1 value per pixel (grayscale). The last number would be 3 for color images and is not really necessary here.\n",
        "\n",
        "    "
      ]
    },
    {
      "cell_type": "markdown",
      "metadata": {
        "id": "6YfH6VEVi-0H",
        "colab_type": "text"
      },
      "source": [
        "<font size = 4> Note also that we have initialized the weights and biases to be zero. "
      ]
    },
    {
      "cell_type": "code",
      "metadata": {
        "id": "XPz5lIIqi-0I",
        "colab_type": "code",
        "colab": {}
      },
      "source": [
        "# The model\n",
        "Y = tf.nn.softmax(tf.matmul(tf.reshape(X, [-1, 784]), W) + b)\n",
        "\n",
        "# correct answers will go here\n",
        "Y_ = tf.placeholder(tf.float32, [None, 10])"
      ],
      "execution_count": 0,
      "outputs": []
    },
    {
      "cell_type": "markdown",
      "metadata": {
        "id": "u12Jahxgi-0J",
        "colab_type": "text"
      },
      "source": [
        "<font size = 4> Here the **tf.reshape(X, [-1, 784])** command flattens the image pixels to single array. The model then computes the softmax, given by the formula:"
      ]
    },
    {
      "cell_type": "markdown",
      "metadata": {
        "id": "VEJ_VYrCi-0K",
        "colab_type": "text"
      },
      "source": [
        "### $$ \\textbf{Y} = softmax(\\textbf{X}.\\textbf{W} + \\textbf{b}) $$"
      ]
    },
    {
      "cell_type": "markdown",
      "metadata": {
        "id": "WSW1NRCAi-0K",
        "colab_type": "text"
      },
      "source": [
        "<font size = 4> We'll also make a place to hold the correct answers from our labeled data. Recall, that to compute the error of our measurement, we use the cross-entropy. Why this and not the Mean Square Error?"
      ]
    },
    {
      "cell_type": "markdown",
      "metadata": {
        "id": "vJndOspWi-0L",
        "colab_type": "text"
      },
      "source": [
        "### $$ \\text{cross entropy} = -\\sum Y_i'\\log(Y_i) $$\n",
        "\n"
      ]
    },
    {
      "cell_type": "code",
      "metadata": {
        "id": "FBPlirH6i-0L",
        "colab_type": "code",
        "colab": {}
      },
      "source": [
        "# loss function in code\n",
        "cross_entropy = -tf.reduce_sum(Y_ * tf.log(Y))"
      ],
      "execution_count": 0,
      "outputs": []
    },
    {
      "cell_type": "markdown",
      "metadata": {
        "id": "6dJ8FWhci-0N",
        "colab_type": "text"
      },
      "source": [
        "<font size = 4> This takes the log of each element and multiplies the tensors element by element. \n",
        "\n",
        "We'll also keep track of the accuracy from our test set of data. "
      ]
    },
    {
      "cell_type": "code",
      "metadata": {
        "id": "QpTmmct_i-0N",
        "colab_type": "code",
        "colab": {}
      },
      "source": [
        "# % of correct answers found in batch, between 0 (worst) and 1 (best)\n",
        "is_correct = tf.equal(tf.argmax(Y,1), tf.argmax(Y_,1))\n",
        "accuracy = tf.reduce_mean(tf.cast(is_correct, tf.float32))"
      ],
      "execution_count": 0,
      "outputs": []
    },
    {
      "cell_type": "markdown",
      "metadata": {
        "id": "cM1ayF01i-0P",
        "colab_type": "text"
      },
      "source": [
        "<font size = 4> **tf.equal** is a boolean that returns the truth value of the actual (Y) and our prediction element-wise (Y_). \n",
        "\n",
        "***accuracy*** first casts **is_correct** as a float value type, then computes the mean of elements."
      ]
    },
    {
      "cell_type": "markdown",
      "metadata": {
        "id": "ZGUvNxidi-0P",
        "colab_type": "text"
      },
      "source": [
        "## Optimizing the model using Gradient Descent\n",
        "\n",
        "\n",
        "Gradient Descent - All you need to know https://hackernoon.com/gradient-descent-aynk-7cbe95a778da "
      ]
    },
    {
      "cell_type": "markdown",
      "metadata": {
        "id": "atwP7urzi-0Q",
        "colab_type": "text"
      },
      "source": [
        "<font size = 4> Next, we come to the gradient descent part. Here we tell the algorithm how to optimize to minimize the cost. \n",
        "\n",
        "You have a choice in selecting an optimizer (there are many available). TensorFlow will compute the partial derivatives of the loss function relatively to all the weights and all the biases. \n",
        "\n",
        "The gradient is then used to update the weights and biases. We'll tell the optimizer to use 0.003 as the **learning rate**. Recall, "
      ]
    },
    {
      "cell_type": "markdown",
      "metadata": {
        "id": "-p02PS8Di-0Q",
        "colab_type": "text"
      },
      "source": [
        "\n",
        "<center>\n",
        "<img src=\"https://raw.githubusercontent.com/elthonf/AITE19/master/pics/learning_rate1.png\" alt=\"Drawing\" style=\"width: 300px;\"/> <img src=\"https://raw.githubusercontent.com/elthonf/AITE19/master/pics/learning_rate2.png\" alt=\"Drawing\" style=\"width: 300px;\"/> \n",
        "  </center>"
      ]
    },
    {
      "cell_type": "code",
      "metadata": {
        "id": "9XkG3kdVi-0R",
        "colab_type": "code",
        "colab": {}
      },
      "source": [
        "#Select an optimizer and define the training step\n",
        "optimizer = tf.train.GradientDescentOptimizer(0.003)\n",
        "train_step = optimizer.minimize(cross_entropy)"
      ],
      "execution_count": 0,
      "outputs": []
    },
    {
      "cell_type": "markdown",
      "metadata": {
        "id": "UruET4mhi-0T",
        "colab_type": "text"
      },
      "source": [
        "### Q. What if the learing rate were smaller? What if the learning rate were larger? "
      ]
    },
    {
      "cell_type": "markdown",
      "metadata": {
        "id": "f5slhE_Ni-0T",
        "colab_type": "text"
      },
      "source": [
        "<center>\n",
        "<img src=\"https://raw.githubusercontent.com/elthonf/AITE19/master/pics/learning_rate_DL.png\" alt=\"Drawing\" style=\"width: 550px;\"/> \n",
        "  </center>"
      ]
    },
    {
      "cell_type": "markdown",
      "metadata": {
        "id": "NpG_oLsUi-0U",
        "colab_type": "text"
      },
      "source": [
        "<font size = 4> By now the computational graph structure is complete. Next, we need to feed actual data into the graph and compute something. We start up a **Session** which will keep track of the computational graph and update values of the weights through each mini-batch. \n",
        "    \n",
        " ### So far we have only 'set up' the Tensorflow compute graph. Now with the \"sess.run\" call we actually execute the computation"
      ]
    },
    {
      "cell_type": "code",
      "metadata": {
        "id": "pZRx3SL4i-0U",
        "colab_type": "code",
        "colab": {}
      },
      "source": [
        "sess = tf.Session()\n",
        "sess.run(init)\n",
        "\n",
        "for i in range(1000):\n",
        "    # load batch of images and correct answers\n",
        "    batch_X, batch_Y = mnist.train.next_batch(100)\n",
        "    train_data={X: batch_X, Y_: batch_Y}\n",
        "\n",
        "    # train\n",
        "    sess.run(train_step, feed_dict=train_data)"
      ],
      "execution_count": 0,
      "outputs": []
    },
    {
      "cell_type": "markdown",
      "metadata": {
        "id": "n7NdONXzi-0Y",
        "colab_type": "text"
      },
      "source": [
        "<font size = 4> Once we've run through each mini-batch in our training data, we want to see how good our basic one-layer trained neural network does at identifying hand written digits. We can compute extract the accuracy and cross_entropy from our neural network with the following command. Here we are feeding it the training data. "
      ]
    },
    {
      "cell_type": "code",
      "metadata": {
        "id": "oYxcW0yRi-0Y",
        "colab_type": "code",
        "colab": {}
      },
      "source": [
        "# success ?\n",
        "a_train,c_train = sess.run([accuracy, cross_entropy], feed_dict=train_data)"
      ],
      "execution_count": 0,
      "outputs": []
    },
    {
      "cell_type": "code",
      "metadata": {
        "id": "1hcqPDlCi-0c",
        "colab_type": "code",
        "colab": {
          "base_uri": "https://localhost:8080/",
          "height": 34
        },
        "outputId": "5060995f-3e20-4132-f3f0-28cf08f3a6ec"
      },
      "source": [
        "print (\"The accuracy for this model on training data is %.3f.\" %  a_train)"
      ],
      "execution_count": 13,
      "outputs": [
        {
          "output_type": "stream",
          "text": [
            "The accuracy for this model on training data is 0.930.\n"
          ],
          "name": "stdout"
        }
      ]
    },
    {
      "cell_type": "markdown",
      "metadata": {
        "id": "3P1ImFgxi-0d",
        "colab_type": "text"
      },
      "source": [
        "### Q. Is this a fair assessment of our accuracy and final cross-entropy score?"
      ]
    },
    {
      "cell_type": "code",
      "metadata": {
        "id": "jpSQx8JJi-0e",
        "colab_type": "code",
        "colab": {}
      },
      "source": [
        "# success on test data ?\n",
        "test_data={X: mnist.test.images, Y_: mnist.test.labels}\n",
        "a_test,c_test = sess.run([accuracy, cross_entropy], feed_dict=test_data)"
      ],
      "execution_count": 0,
      "outputs": []
    },
    {
      "cell_type": "code",
      "metadata": {
        "id": "bRubLsLgi-0g",
        "colab_type": "code",
        "colab": {
          "base_uri": "https://localhost:8080/",
          "height": 34
        },
        "outputId": "cb4465d4-6d67-4572-fda1-0a677825f464"
      },
      "source": [
        "print (\"The accuracy for this model on the test data is %.3f.\" %  a_test)"
      ],
      "execution_count": 15,
      "outputs": [
        {
          "output_type": "stream",
          "text": [
            "The accuracy for this model on the test data is 0.917.\n"
          ],
          "name": "stdout"
        }
      ]
    },
    {
      "cell_type": "markdown",
      "metadata": {
        "id": "3okSYvA2i-0i",
        "colab_type": "text"
      },
      "source": [
        "### Implemented as a python program! $$\\text{mnist_softmax.py}$$"
      ]
    },
    {
      "cell_type": "markdown",
      "metadata": {
        "id": "RuY5E4opi-0i",
        "colab_type": "text"
      },
      "source": [
        "# Adding layers -- in pictures"
      ]
    },
    {
      "cell_type": "markdown",
      "metadata": {
        "id": "5b3sC7Pri-0j",
        "colab_type": "text"
      },
      "source": [
        "<font size = 4> Now we'll try to improve our model by adding more layers to our neural network. In pictures, this looks something like this"
      ]
    },
    {
      "cell_type": "markdown",
      "metadata": {
        "id": "W49W63mwi-0j",
        "colab_type": "text"
      },
      "source": [
        "<center>\n",
        "<img src=\"https://raw.githubusercontent.com/elthonf/AITE19/master/pics/five_layers.png\" alt=\"Drawing\" style=\"width: 650px;\"/>\n",
        "  </center>"
      ]
    },
    {
      "cell_type": "markdown",
      "metadata": {
        "id": "m1mOCjG3i-0k",
        "colab_type": "text"
      },
      "source": [
        "<font size = 4> There are five layers. \n",
        "\n",
        "    The first layer has 200 nodes\n",
        "    The second layer has 100 nodes\n",
        "    The third layer has 60 nodes\n",
        "    The fourth layer has 30 nodes\n",
        "    The fifth layer has 10 nodes\n",
        "    \n",
        "Note also that we use the **sigmoid** function as the activation function in the intermediate layers. And keep **softmax** as the final layer because these are the nodes representing the digits 0 through 9 and softmax does a good job at classification."
      ]
    },
    {
      "cell_type": "markdown",
      "metadata": {
        "id": "f0uymJvfi-0k",
        "colab_type": "text"
      },
      "source": [
        "<font size = 4> The algorithm will be the same as before \n",
        "\n",
        "    Training digits and labels on a mini-batch\n",
        "    => compute loss function, cross entropy with current weights\n",
        "    => compute gradient (partial derivatives) of loss w.r.t. weights and biases \n",
        "    => move in direction of steepest descent according to learning rate\n",
        "    => update weights and biases \n",
        "    => repeat with next mini-batch of training images and labels\n",
        "    \n",
        "Only now to compute our loss function requires these intermediate steps.\\\\\n",
        "Another thing to keep in mind is that we should initialize our weights to non-zero values. "
      ]
    },
    {
      "cell_type": "markdown",
      "metadata": {
        "id": "pSz_oxozi-0l",
        "colab_type": "text"
      },
      "source": [
        "# Adding layers -- in code"
      ]
    },
    {
      "cell_type": "markdown",
      "metadata": {
        "id": "kob2uuB1i-0l",
        "colab_type": "text"
      },
      "source": [
        "<font size = 4> Much of our code will remain the same. We only need to add additional lines for the extra layers"
      ]
    },
    {
      "cell_type": "code",
      "metadata": {
        "id": "Uxep5Bnzi-0l",
        "colab_type": "code",
        "colab": {}
      },
      "source": [
        "# input X: 28x28 grayscale images, the first dimension (None) will index the images in the mini-batch\n",
        "X = tf.placeholder(tf.float32, [None, 28, 28, 1])\n",
        "# correct answers will go here\n",
        "Y_ = tf.placeholder(tf.float32, [None, 10])\n",
        "\n",
        "# five layers and their number of neurons (the last layer has 10 softmax neurons)\n",
        "L = 200\n",
        "M = 100\n",
        "N = 60\n",
        "O = 30"
      ],
      "execution_count": 0,
      "outputs": []
    },
    {
      "cell_type": "markdown",
      "metadata": {
        "id": "49ZIqXXCi-0n",
        "colab_type": "text"
      },
      "source": [
        "Next, we'll initialize our weights in each layer randomly by using a truncated normal distribution of values between -0.2 and 0.2."
      ]
    },
    {
      "cell_type": "markdown",
      "metadata": {
        "id": "jv5Ju-Jki-0n",
        "colab_type": "text"
      },
      "source": [
        "### Q. Why use a truncated normal?"
      ]
    },
    {
      "cell_type": "markdown",
      "metadata": {
        "id": "E4Qq-BM2i-0n",
        "colab_type": "text"
      },
      "source": [
        "<font size = 4> It is important to initialise weights with random values to keep the optimizer from getting stuck in its initial position. "
      ]
    },
    {
      "cell_type": "code",
      "metadata": {
        "id": "b7C1P12Yi-0o",
        "colab_type": "code",
        "colab": {}
      },
      "source": [
        "#first layer\n",
        "W1 = tf.Variable(tf.truncated_normal([784, L], stddev=0.1))  # 784 = 28 * 28\n",
        "B1 = tf.Variable(tf.zeros([L]))\n",
        "\n",
        "#second layer using output from first layer \n",
        "W2 = tf.Variable(tf.truncated_normal([L, M], stddev=0.1))\n",
        "B2 = tf.Variable(tf.zeros([M]))\n",
        "\n",
        "#third layer using output from second layer\n",
        "W3 = tf.Variable(tf.truncated_normal([M, N], stddev=0.1))\n",
        "B3 = tf.Variable(tf.zeros([N]))\n",
        "\n",
        "#fourth layer using output from third layer\n",
        "W4 = tf.Variable(tf.truncated_normal([N, O], stddev=0.1))\n",
        "B4 = tf.Variable(tf.zeros([O]))\n",
        "\n",
        "#fifth layer using output from fourth layer\n",
        "W5 = tf.Variable(tf.truncated_normal([O, 10], stddev=0.1))\n",
        "B5 = tf.Variable(tf.zeros([10]))"
      ],
      "execution_count": 0,
      "outputs": []
    },
    {
      "cell_type": "markdown",
      "metadata": {
        "id": "Q7d3to3Hi-0q",
        "colab_type": "text"
      },
      "source": [
        "<font size = 4> Then, we create our model."
      ]
    },
    {
      "cell_type": "code",
      "metadata": {
        "id": "W0SAA5fAi-0q",
        "colab_type": "code",
        "colab": {}
      },
      "source": [
        "# The model\n",
        "XX = tf.reshape(X, [-1, 784])                  #XX is X with flattened out the pixels\n",
        "\n",
        "Y1 = tf.nn.sigmoid(tf.matmul(XX, W1) + B1)\n",
        "Y2 = tf.nn.sigmoid(tf.matmul(Y1, W2) + B2)\n",
        "Y3 = tf.nn.sigmoid(tf.matmul(Y2, W3) + B3)\n",
        "Y4 = tf.nn.sigmoid(tf.matmul(Y3, W4) + B4)"
      ],
      "execution_count": 0,
      "outputs": []
    },
    {
      "cell_type": "markdown",
      "metadata": {
        "id": "YTJzVbe8i-0s",
        "colab_type": "text"
      },
      "source": [
        "<font size = 4> Then, compute the cross entropy, accuracy and set the optimizer."
      ]
    },
    {
      "cell_type": "code",
      "metadata": {
        "id": "P8V89E75i-0s",
        "colab_type": "code",
        "colab": {
          "base_uri": "https://localhost:8080/",
          "height": 173
        },
        "outputId": "fcb2b3fe-5c3c-4313-a5ab-cac48294e6cf"
      },
      "source": [
        "# loss function in code\n",
        "Ylogits = tf.matmul(Y4, W5) + B5\n",
        "Y = tf.nn.softmax(Ylogits)\n",
        "\n",
        "# compute the error\n",
        "# TensorFlow provides the softmax_cross_entropy_with_logits function to avoid numerical stability\n",
        "# problems with log(0) which is NaN\n",
        "cross_entropy = tf.nn.softmax_cross_entropy_with_logits(logits=Ylogits, labels=Y_)\n",
        "cross_entropy = tf.reduce_sum(cross_entropy)\n",
        "\n",
        "# accuracy of the trained model, between 0 (worst) and 1 (best)\n",
        "correct_prediction = tf.equal(tf.argmax(Y, 1), tf.argmax(Y_, 1))\n",
        "accuracy = tf.reduce_mean(tf.cast(correct_prediction, tf.float32))\n",
        "\n",
        "# training step, learning rate = 0.003\n",
        "#combined the previous two lines into one\n",
        "train_step = tf.train.GradientDescentOptimizer(0.003).minimize(cross_entropy)\n",
        "\n",
        "# initialize the Tensorflow session\n",
        "init = tf.global_variables_initializer()\n",
        "sess = tf.Session()\n",
        "sess.run(init)\n",
        "\n",
        "# train the NN\n",
        "for i in range(10000):\n",
        "    # load batch of images and correct answers\n",
        "    batch_X, batch_Y = mnist.train.next_batch(100)\n",
        "    train_data={X: batch_X, Y_: batch_Y}\n",
        "\n",
        "    # train\n",
        "    sess.run(train_step, feed_dict=train_data)"
      ],
      "execution_count": 19,
      "outputs": [
        {
          "output_type": "stream",
          "text": [
            "WARNING:tensorflow:From <ipython-input-19-3f36eb45fea4>:7: softmax_cross_entropy_with_logits (from tensorflow.python.ops.nn_ops) is deprecated and will be removed in a future version.\n",
            "Instructions for updating:\n",
            "\n",
            "Future major versions of TensorFlow will allow gradients to flow\n",
            "into the labels input on backprop by default.\n",
            "\n",
            "See `tf.nn.softmax_cross_entropy_with_logits_v2`.\n",
            "\n"
          ],
          "name": "stdout"
        }
      ]
    },
    {
      "cell_type": "markdown",
      "metadata": {
        "id": "SEVC2Jn2i-0t",
        "colab_type": "text"
      },
      "source": [
        "<font size = 4> Now let's look at the accuracy."
      ]
    },
    {
      "cell_type": "code",
      "metadata": {
        "id": "kQkyQKb6i-0t",
        "colab_type": "code",
        "colab": {}
      },
      "source": [
        "# success on test data ?\n",
        "test_data={X: mnist.test.images, Y_: mnist.test.labels}\n",
        "a_test,c_test = sess.run([accuracy, cross_entropy], feed_dict=test_data)"
      ],
      "execution_count": 0,
      "outputs": []
    },
    {
      "cell_type": "code",
      "metadata": {
        "id": "V2vyDuwyi-0u",
        "colab_type": "code",
        "colab": {
          "base_uri": "https://localhost:8080/",
          "height": 34
        },
        "outputId": "c1532ca1-b3e0-4a17-f575-87a19a7baa5e"
      },
      "source": [
        "print (\"The accuracy for this multi-layer model on the test data is %.3f.\" %  a_test)"
      ],
      "execution_count": 21,
      "outputs": [
        {
          "output_type": "stream",
          "text": [
            "The accuracy for this multi-layer model on the test data is 0.958.\n"
          ],
          "name": "stdout"
        }
      ]
    },
    {
      "cell_type": "markdown",
      "metadata": {
        "id": "9cPM8cAdi-0v",
        "colab_type": "text"
      },
      "source": [
        "## In conclusion\n",
        "        *We loaded the MNIST digits dataset and checked it out\n",
        "        * We tested a single layer neural network and calculated its accuracy\n",
        "        * We tested a multi layer neural network and showed improvement in accuracy\n",
        "        * We saw Tensorflow functionality (although briefly)\n",
        "        \n",
        "### Some questions you may want to ponder upon:\n",
        "\n",
        "#### Q: How would changing the number of learning rate affect the accuracy of our NN?\n",
        "#### Q: How would changing the number of iterations affect the accuracy of our NN?\n",
        "#### Q: How would changing the number of layers affect the accuracy of our NN?\n",
        "#### Q: How would changing the number of nodes within a layer affect the accuracy of our NN?\n",
        "      Q: What's the purpose of life ? :) Who am I ? :)"
      ]
    },
    {
      "cell_type": "markdown",
      "metadata": {
        "id": "S4cv9b8li-0w",
        "colab_type": "text"
      },
      "source": [
        "### $$\\text{mnist_fivelayers.py}$$"
      ]
    },
    {
      "cell_type": "code",
      "metadata": {
        "id": "Yl4e6DFArg9c",
        "colab_type": "code",
        "colab": {}
      },
      "source": [
        ""
      ],
      "execution_count": 0,
      "outputs": []
    },
    {
      "cell_type": "markdown",
      "metadata": {
        "id": "aQ2erzvKi-0w",
        "colab_type": "text"
      },
      "source": [
        "# Advanced topics follow! \n",
        "\n",
        "The topics below will need extra reading so please tread carefully! There is a lot of information on the Net. The Tensorflow tutorials will be a huge help. There are several free resources on Deep Learning. \n",
        "\n",
        "The state of the art continues to change so enjoy!\n",
        "\n",
        "\n",
        "## Tuning a Neural Network"
      ]
    },
    {
      "cell_type": "markdown",
      "metadata": {
        "id": "uQbNA3WZi-0w",
        "colab_type": "text"
      },
      "source": [
        "<font size = 4> The deeper a NN gets, the harder it can be for it to converge to the solution. Here are some simple fixes to improve your model."
      ]
    },
    {
      "cell_type": "markdown",
      "metadata": {
        "id": "pSfgZciwi-0x",
        "colab_type": "text"
      },
      "source": [
        "### ReLU Activation function"
      ]
    },
    {
      "cell_type": "markdown",
      "metadata": {
        "id": "9_bGS5Bxi-0x",
        "colab_type": "text"
      },
      "source": [
        "<font size = 4> The sigmoid function can be problematic because it squashes values between 0 and 1. This can cause neuron gradients to vanish and slow convergence. Instead of sigmoid we can use ReLU (Rectified Linear Unit)"
      ]
    },
    {
      "cell_type": "markdown",
      "metadata": {
        "id": "5Baw6LTmi-0x",
        "colab_type": "text"
      },
      "source": [
        "<center>\n",
        "<img src=\"https://raw.githubusercontent.com/elthonf/AITE19/master/pics/relu.png\" alt=\"Drawing\" style=\"width: 300px;\"/>\n",
        "  </center>"
      ]
    },
    {
      "cell_type": "markdown",
      "metadata": {
        "id": "f9lTIptHi-0y",
        "colab_type": "text"
      },
      "source": [
        "<font size = 4> Simply swap **tf.nn.sigmoid** in the code above with **tf.nn.relu**"
      ]
    },
    {
      "cell_type": "markdown",
      "metadata": {
        "id": "rzqQcTMsi-0y",
        "colab_type": "text"
      },
      "source": [
        "### Use a differnet optimizer"
      ]
    },
    {
      "cell_type": "markdown",
      "metadata": {
        "id": "Fs520nPqi-0z",
        "colab_type": "text"
      },
      "source": [
        "<font size = 4> In high dimensional spaces with tens of thousands of weights and biases, saddle points can occur which will trap and confuse your optimizer. The saddle points are a problem because the gradient is zero but it isn't because you're at a minimum (or maximum). "
      ]
    },
    {
      "cell_type": "markdown",
      "metadata": {
        "id": "BoE2MYNZi-0z",
        "colab_type": "text"
      },
      "source": [
        "<center>\n",
        "<img src=\"https://raw.githubusercontent.com/elthonf/AITE19/master/pics/saddle.png\" alt=\"Drawing\" style=\"width: 300px;\"/>\n",
        "  </center>"
      ]
    },
    {
      "cell_type": "markdown",
      "metadata": {
        "id": "P_srkpjii-0z",
        "colab_type": "text"
      },
      "source": [
        "<font size = 4> Swap **tf.train.GradientDescentOptimiser** with a **tf.train.AdamOptimizer**"
      ]
    },
    {
      "cell_type": "markdown",
      "metadata": {
        "id": "QC8kk_yei-0z",
        "colab_type": "text"
      },
      "source": [
        "### Try Randomizing Initialisations\n",
        "\n",
        "<font size = 4> When working with ReLU it is recommended to choose initial weights that are small **and positive**."
      ]
    },
    {
      "cell_type": "markdown",
      "metadata": {
        "id": "tenxPyS1i-00",
        "colab_type": "text"
      },
      "source": [
        "### Q: Why do you need to have non-zero values for ReLU?\n",
        "\n",
        "<font size = 4> So that neurons can operate in the non-zero range of ReLU."
      ]
    },
    {
      "cell_type": "markdown",
      "metadata": {
        "id": "tACCEs99i-00",
        "colab_type": "text"
      },
      "source": [
        "<font size = 4> Try the following code, making all the initial biases 0.1. "
      ]
    },
    {
      "cell_type": "markdown",
      "metadata": {
        "id": "W7L7cQ9vA3YA",
        "colab_type": "text"
      },
      "source": [
        "```\n",
        "W1 = tf.Variable(tf.truncated_normal([784, L], stddev=0.1))  # 784 = 28 * 28\n",
        "B1 = tf.Variable(tf.ones([L])/10)                            # 0.1 = tf.ones([L])/10\n",
        "\n",
        "W2 = tf.Variable(tf.truncated_normal([L, M], stddev=0.1))\n",
        "B2 = tf.Variable(tf.ones([M])/10)\n",
        "\n",
        "W3 = tf.Variable(tf.truncated_normal([M, N], stddev=0.1))\n",
        "B3 = tf.Variable(tf.ones([N])/10)\n",
        "\n",
        "W4 = tf.Variable(tf.truncated_normal([N, O], stddev=0.1))\n",
        "B4 = tf.Variable(tf.ones([O])/10)\n",
        "\n",
        "W5 = tf.Variable(tf.truncated_normal([O, 10], stddev=0.1))\n",
        "B5 = tf.Variable(tf.zeros([10]))\n",
        "```"
      ]
    },
    {
      "cell_type": "markdown",
      "metadata": {
        "id": "lnAQZzqFi-01",
        "colab_type": "text"
      },
      "source": [
        "### Learning Rate Decay"
      ]
    },
    {
      "cell_type": "markdown",
      "metadata": {
        "id": "WEAB5Xrpi-01",
        "colab_type": "text"
      },
      "source": [
        "<font size = 4> Increasing the number of iterations will improve your accuracy but the results can be noisy and the test accuracy can vary wildly. Try it!\n",
        "\n",
        "One way to avoid this is to start the learning decay rate fast but then decrease slowly to 0.0001 or smaller. \n",
        "\n",
        "Add the following code to add learning rate decay."
      ]
    },
    {
      "cell_type": "markdown",
      "metadata": {
        "id": "e3WGAB_qA5yb",
        "colab_type": "text"
      },
      "source": [
        "```\n",
        "# learning rate decay\n",
        "max_learning_rate = 0.003\n",
        "min_learning_rate = 0.0001\n",
        "decay_speed = 2000.0 # 0.003-0.0001-2000=>0.9826 done in 5000 iterations\n",
        "learning_rate = min_learning_rate + (max_learning_rate - min_learning_rate) * math.exp(-i/decay_speed)\n",
        "```"
      ]
    },
    {
      "cell_type": "markdown",
      "metadata": {
        "id": "tnihPhR_i-03",
        "colab_type": "text"
      },
      "source": [
        "<font size = 4> Try plotting the training and test curves to see the test curve become more stable."
      ]
    },
    {
      "cell_type": "markdown",
      "metadata": {
        "id": "wlFxAmz-i-06",
        "colab_type": "text"
      },
      "source": [
        "### Regularization in Neural Networks"
      ]
    },
    {
      "cell_type": "markdown",
      "metadata": {
        "id": "S_rfzvOhi-07",
        "colab_type": "text"
      },
      "source": [
        "<font size = 4> A central problem in machine learning is to create a model that performs well on the training set as well as new data. Methods to do this are collectively referred to as **regularization** techniques. There are many regularization techniques in deep learning. A popular one is called **dropout**."
      ]
    },
    {
      "cell_type": "markdown",
      "metadata": {
        "id": "Uwp3Ozihi-07",
        "colab_type": "text"
      },
      "source": [
        "<center>\n",
        "<img src=\"https://raw.githubusercontent.com/elthonf/AITE19/master/pics/dropout.png\" alt=\"Drawing\" style=\"width: 500px;\"/>\n",
        "  </center>"
      ]
    },
    {
      "cell_type": "markdown",
      "metadata": {
        "id": "KeBmCTdKi-08",
        "colab_type": "text"
      },
      "source": [
        "<font size = 4>Different neurons will be dropped at each iteration. When testing the performance of your network of course you put all the neurons back (pkeep=1)."
      ]
    },
    {
      "cell_type": "markdown",
      "metadata": {
        "id": "vPETxSqZi-08",
        "colab_type": "text"
      },
      "source": [
        "<font size = 4> Luckily TensorFlow has a dropout capability built-in. You can adjust the code as follows:"
      ]
    },
    {
      "cell_type": "markdown",
      "metadata": {
        "id": "SozPXuoeA8YJ",
        "colab_type": "text"
      },
      "source": [
        "```\n",
        "# The model, with dropout at each layer\n",
        "XX = tf.reshape(X, [-1, 28*28])\n",
        "\n",
        "Y1 = tf.nn.relu(tf.matmul(XX, W1) + B1)\n",
        "Y1d = tf.nn.dropout(Y1, pkeep)\n",
        "\n",
        "Y2 = tf.nn.relu(tf.matmul(Y1d, W2) + B2)\n",
        "Y2d = tf.nn.dropout(Y2, pkeep)\n",
        "\n",
        "Y3 = tf.nn.relu(tf.matmul(Y2d, W3) + B3)\n",
        "Y3d = tf.nn.dropout(Y3, pkeep)\n",
        "\n",
        "Y4 = tf.nn.relu(tf.matmul(Y3d, W4) + B4)\n",
        "Y4d = tf.nn.dropout(Y4, pkeep)\n",
        "\n",
        "Ylogits = tf.matmul(Y4d, W5) + B5\n",
        "Y = tf.nn.softmax(Ylogits)\n",
        "```"
      ]
    },
    {
      "cell_type": "markdown",
      "metadata": {
        "id": "JmTSUaT_i-09",
        "colab_type": "text"
      },
      "source": [
        "### $$\\text{mnist_five_layers_relu_lrdecay_dropout.py}$$"
      ]
    },
    {
      "cell_type": "markdown",
      "metadata": {
        "id": "J4T4hXvAi-09",
        "colab_type": "text"
      },
      "source": [
        "# Convolutional Neural Network"
      ]
    },
    {
      "cell_type": "markdown",
      "metadata": {
        "id": "6ImQLEBOi-0-",
        "colab_type": "text"
      },
      "source": [
        "<font size = 4> In a layer of a convolutional network, one \"neuron\" does a weighted sum of the pixels just above it, across a small region of the image only.\n",
        "\n",
        "Imagine we have a color picture and the color at a pixel is given by the values of RBG at that pixel. By sliding a 4x4 window across the image we can obtain weighted average of each window."
      ]
    },
    {
      "cell_type": "markdown",
      "metadata": {
        "collapsed": true,
        "id": "IoTnWyv6i-0_",
        "colab_type": "text"
      },
      "source": [
        "<center>\n",
        "<img src=\"https://raw.githubusercontent.com/elthonf/AITE19/master/pics/con_neural_net.png\" alt=\"Drawing\" style=\"width: 500px;\"/>\n",
        "  </center>"
      ]
    },
    {
      "cell_type": "markdown",
      "metadata": {
        "id": "q6OawID_i-0_",
        "colab_type": "text"
      },
      "source": [
        "<font size = 4> The TensorFlow syntax for that is "
      ]
    },
    {
      "cell_type": "markdown",
      "metadata": {
        "id": "zSuaa1K9i-0_",
        "colab_type": "text"
      },
      "source": [
        "<center>\n",
        "<img src=\"https://raw.githubusercontent.com/elthonf/AITE19/master/pics/cnn_tfsyntax.png\" alt=\"Drawing\" style=\"width: 350px;\"/>\n",
        "  </center>"
      ]
    },
    {
      "cell_type": "markdown",
      "metadata": {
        "id": "nrBy1fyYi-1A",
        "colab_type": "text"
      },
      "source": [
        "<font size = 4> Can add as many convolutional layers as you like"
      ]
    },
    {
      "cell_type": "markdown",
      "metadata": {
        "id": "-RsPL5c0i-1A",
        "colab_type": "text"
      },
      "source": [
        "<center>\n",
        "<img src=\"https://raw.githubusercontent.com/elthonf/AITE19/master/pics/CNN_many_layers.png\" alt=\"Drawing\" style=\"width: 650px;\"/>\n",
        "  </center>\n",
        "  \n",
        "  "
      ]
    },
    {
      "cell_type": "markdown",
      "metadata": {
        "collapsed": true,
        "id": "DFp9mn0Fi-1B",
        "colab_type": "text"
      },
      "source": [
        "## Coding a Convolutional Neural Net"
      ]
    },
    {
      "cell_type": "markdown",
      "metadata": {
        "id": "hi7xHslXi-1C",
        "colab_type": "text"
      },
      "source": [
        "<font size = 4> We'll build a convolutional neural net with 3 convolutional layers, a fully connected layer and our original softmax layer. \n",
        "\n",
        "We first need to initialize the weights in the weighted averages..."
      ]
    },
    {
      "cell_type": "code",
      "metadata": {
        "id": "pYJDI8Gui-1C",
        "colab_type": "code",
        "colab": {}
      },
      "source": [
        "# three convolutional layers with their channel counts, and a\n",
        "# fully connected layer (tha last layer has 10 softmax neurons)\n",
        "K = 4  # first convolutional layer output depth\n",
        "L = 8  # second convolutional layer output depth\n",
        "M = 12  # third convolutional layer\n",
        "N = 200  # fully connected layer\n",
        "\n",
        "W1 = tf.Variable(tf.truncated_normal([5, 5, 1, K], stddev=0.1))  # 5x5 patch, 1 input channel, K output channels\n",
        "B1 = tf.Variable(tf.ones([K])/10)\n",
        "W2 = tf.Variable(tf.truncated_normal([5, 5, K, L], stddev=0.1))\n",
        "B2 = tf.Variable(tf.ones([L])/10)\n",
        "W3 = tf.Variable(tf.truncated_normal([4, 4, L, M], stddev=0.1))\n",
        "B3 = tf.Variable(tf.ones([M])/10)\n",
        "\n",
        "W4 = tf.Variable(tf.truncated_normal([7 * 7 * M, N], stddev=0.1))\n",
        "B4 = tf.Variable(tf.ones([N])/10)\n",
        "W5 = tf.Variable(tf.truncated_normal([N, 10], stddev=0.1))\n",
        "B5 = tf.Variable(tf.ones([10])/10)"
      ],
      "execution_count": 0,
      "outputs": []
    },
    {
      "cell_type": "markdown",
      "metadata": {
        "id": "0GIXNhARi-1D",
        "colab_type": "text"
      },
      "source": [
        "<font size = 4> Next we need to implement the convolutional layers. To do this we can use **tf.nn.conv2d**. We still need to add in the bias then apply the activation function."
      ]
    },
    {
      "cell_type": "markdown",
      "metadata": {
        "id": "gmtZGwr7Ayw0",
        "colab_type": "text"
      },
      "source": [
        "```\n",
        "# first convolutional layer, output is 28x28\n",
        "stride = 1  \n",
        "Y1_cnv = tf.nn.conv2d(X, W1, strides=[1, stride, stride, 1], padding='SAME')\n",
        "Y1 = tf.nn.relu(Y1_cnv + B1)\n",
        "```"
      ]
    },
    {
      "cell_type": "markdown",
      "metadata": {
        "id": "dVU9X5Coi-1E",
        "colab_type": "text"
      },
      "source": [
        "<font size = 4> The padding strategy that works here is to copy pixels from the sides of the image. All digits are on a uniform background so this just extends the background and should not add any unwanted shapes.\n",
        "'SAME' is the type of padding algorithm to use\n",
        "\n",
        "Now we code the rest of the layers"
      ]
    },
    {
      "cell_type": "markdown",
      "metadata": {
        "id": "dC7uCeX-Amce",
        "colab_type": "text"
      },
      "source": [
        "```\n",
        "#second convolutional layer, output is 14x14\n",
        "stride = 2  \n",
        "Y2_cnv = tf.nn.conv2d(Y1, W2, strides=[1, stride, stride, 1], padding='SAME') \n",
        "Y2 = tf.nn.relu(Y2_cnv + B2)\n",
        "\n",
        "#third convolutional layer, output is 7x7\n",
        "stride = 2\n",
        "Y3_cnv = tf.nn.conv2d(Y2, W3, strides=[1, stride, stride, 1], padding='SAME')\n",
        "Y3 = tf.nn.relu(Y3_cnv + B3)\n",
        "\n",
        "# reshape the output from the third convolution for the fully connected layer\n",
        "YY = tf.reshape(Y3, shape=[-1, 7 * 7 * M])\n",
        "\n",
        "Y4 = tf.nn.relu(tf.matmul(YY, W4) + B4)\n",
        "\n",
        "Ylogits = tf.matmul(Y4, W5) + B5\n",
        "Y = tf.nn.softmax(Ylogits)\n",
        "```\n",
        "\n",
        "\n",
        "\n"
      ]
    },
    {
      "cell_type": "markdown",
      "metadata": {
        "id": "rsGFCTvBi-1F",
        "colab_type": "text"
      },
      "source": [
        "### $$\\text{mnist_convolutional.py}$$"
      ]
    },
    {
      "cell_type": "code",
      "metadata": {
        "id": "iogI2JA8i-1F",
        "colab_type": "code",
        "colab": {}
      },
      "source": [
        ""
      ],
      "execution_count": 0,
      "outputs": []
    }
  ]
}